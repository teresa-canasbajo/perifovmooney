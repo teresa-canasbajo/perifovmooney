{
 "cells": [
  {
   "cell_type": "code",
   "execution_count": 3,
   "metadata": {
    "ExecuteTime": {
     "end_time": "2019-10-30T20:04:31.810869Z",
     "start_time": "2019-10-30T20:04:31.753248Z"
    }
   },
   "outputs": [
    {
     "name": "stdout",
     "output_type": "stream",
     "text": [
      "The autoreload extension is already loaded. To reload it, use:\n",
      "  %reload_ext autoreload\n"
     ]
    }
   ],
   "source": [
    "# load libraries\n",
    "import statsmodels.stats.multicomp\n",
    "from statsmodels.formula.api import ols\n",
    "import statsmodels.api as sm\n",
    "import researchpy as rp\n",
    "import scipy\n",
    "from scipy import stats as stats\n",
    "from scipy import stats as cp\n",
    "import os\n",
    "from scipy.io import loadmat\n",
    "import pandas as pd\n",
    "import numpy as np\n",
    "import matplotlib.pyplot as plt\n",
    "import matplotlib as matplotlib\n",
    "import seaborn as sns\n",
    "import glob as glob\n",
    "from natsort import natsorted\n",
    "sns.set(color_codes=True)\n",
    "\n",
    "\n",
    "# magic functions\n",
    "%load_ext autoreload\n",
    "%autoreload 2\n",
    "%matplotlib inline\n",
    "\n",
    "# create dummy class for struct-like dataframes\n",
    "\n",
    "\n",
    "class structtype():\n",
    "    pass\n",
    "\n",
    "\n",
    "matplotlib.rc('xtick', labelsize=20)\n",
    "matplotlib.rc('ytick', labelsize=20)\n",
    "matplotlib.rcParams.update({'axes.labelsize': 16.0})"
   ]
  },
  {
   "cell_type": "markdown",
   "metadata": {
    "ExecuteTime": {
     "end_time": "2019-10-24T23:36:36.670133Z",
     "start_time": "2019-10-24T23:36:36.627563Z"
    }
   },
   "source": [
    "# Paths"
   ]
  },
  {
   "cell_type": "code",
   "execution_count": 4,
   "metadata": {
    "ExecuteTime": {
     "end_time": "2019-10-30T20:04:31.864630Z",
     "start_time": "2019-10-30T20:04:31.814810Z"
    }
   },
   "outputs": [],
   "source": [
    "mainpath = os.getcwd()\n",
    "Exp1_path = mainpath + '/../HolisticGender_exp1'"
   ]
  },
  {
   "cell_type": "markdown",
   "metadata": {},
   "source": [
    "# Load data "
   ]
  },
  {
   "cell_type": "code",
   "execution_count": 5,
   "metadata": {
    "ExecuteTime": {
     "end_time": "2019-10-30T20:04:31.954818Z",
     "start_time": "2019-10-30T20:04:31.867619Z"
    }
   },
   "outputs": [],
   "source": [
    "data = pd.read_csv('gender_all_preprocessed.csv', index_col=0)\n",
    "realnames = pd.read_csv('pathsForQualtrics_gender.csv')\n",
    "namematching = pd.read_csv(Exp1_path + '/pathsForQualtrics_HolisticGender_exp1.csv')"
   ]
  },
  {
   "cell_type": "markdown",
   "metadata": {
    "ExecuteTime": {
     "end_time": "2019-10-24T23:39:37.816236Z",
     "start_time": "2019-10-24T23:39:37.746456Z"
    }
   },
   "source": [
    "# Per Mooney "
   ]
  },
  {
   "cell_type": "code",
   "execution_count": 6,
   "metadata": {
    "ExecuteTime": {
     "end_time": "2019-10-30T20:04:32.011212Z",
     "start_time": "2019-10-30T20:04:31.958521Z"
    }
   },
   "outputs": [],
   "source": [
    "numImages = len(np.unique(data['IMAGE_NUMBER']))\n",
    "numSubs = len(np.unique(data['SUBJECTID']))\n",
    "perMooney = pd.DataFrame(index=range(numImages), columns=['IMAGE_NUMBER', 'REAL_NAME', 'MALE', 'FEMALE', 'SELECT', 'PAPER', 'PAPER_NUMBER', 'CORRECT'])"
   ]
  },
  {
   "cell_type": "code",
   "execution_count": 7,
   "metadata": {
    "ExecuteTime": {
     "end_time": "2019-10-30T20:04:33.082250Z",
     "start_time": "2019-10-30T20:04:32.013828Z"
    }
   },
   "outputs": [
    {
     "name": "stdout",
     "output_type": "stream",
     "text": [
      "Analyzing mooney 1 out of 278\n",
      "Analyzing mooney 2 out of 278\n",
      "Analyzing mooney 3 out of 278\n",
      "Analyzing mooney 4 out of 278\n",
      "Analyzing mooney 5 out of 278\n",
      "Analyzing mooney 6 out of 278\n",
      "Analyzing mooney 7 out of 278\n",
      "Analyzing mooney 8 out of 278\n",
      "Analyzing mooney 9 out of 278\n",
      "Analyzing mooney 10 out of 278\n",
      "Analyzing mooney 11 out of 278\n",
      "Analyzing mooney 12 out of 278\n",
      "Analyzing mooney 13 out of 278\n",
      "Analyzing mooney 14 out of 278\n",
      "Analyzing mooney 15 out of 278\n",
      "Analyzing mooney 16 out of 278\n",
      "Analyzing mooney 17 out of 278\n",
      "Analyzing mooney 18 out of 278\n",
      "Analyzing mooney 19 out of 278\n",
      "Analyzing mooney 20 out of 278\n",
      "Analyzing mooney 21 out of 278\n",
      "Analyzing mooney 22 out of 278\n",
      "Analyzing mooney 23 out of 278\n",
      "Analyzing mooney 24 out of 278\n",
      "Analyzing mooney 25 out of 278\n",
      "Analyzing mooney 26 out of 278\n",
      "Analyzing mooney 27 out of 278\n",
      "Analyzing mooney 28 out of 278\n",
      "Analyzing mooney 29 out of 278\n",
      "Analyzing mooney 30 out of 278\n",
      "Analyzing mooney 31 out of 278\n",
      "Analyzing mooney 32 out of 278\n",
      "Analyzing mooney 33 out of 278\n",
      "Analyzing mooney 34 out of 278\n",
      "Analyzing mooney 35 out of 278\n",
      "Analyzing mooney 36 out of 278\n",
      "Analyzing mooney 37 out of 278\n",
      "Analyzing mooney 38 out of 278\n",
      "Analyzing mooney 39 out of 278\n",
      "Analyzing mooney 40 out of 278\n",
      "Analyzing mooney 41 out of 278\n",
      "Analyzing mooney 42 out of 278\n",
      "Analyzing mooney 43 out of 278\n",
      "Analyzing mooney 44 out of 278\n",
      "Analyzing mooney 45 out of 278\n",
      "Analyzing mooney 46 out of 278\n",
      "Analyzing mooney 47 out of 278\n",
      "Analyzing mooney 48 out of 278\n",
      "Analyzing mooney 49 out of 278\n",
      "Analyzing mooney 50 out of 278\n",
      "Analyzing mooney 51 out of 278\n",
      "Analyzing mooney 52 out of 278\n",
      "Analyzing mooney 53 out of 278\n",
      "Analyzing mooney 54 out of 278\n",
      "Analyzing mooney 55 out of 278\n",
      "Analyzing mooney 56 out of 278\n",
      "Analyzing mooney 57 out of 278\n",
      "Analyzing mooney 58 out of 278\n",
      "Analyzing mooney 59 out of 278\n",
      "Analyzing mooney 60 out of 278\n",
      "Analyzing mooney 61 out of 278\n",
      "Analyzing mooney 62 out of 278\n",
      "Analyzing mooney 63 out of 278\n",
      "Analyzing mooney 64 out of 278\n",
      "Analyzing mooney 65 out of 278\n",
      "Analyzing mooney 66 out of 278\n",
      "Analyzing mooney 67 out of 278\n",
      "Analyzing mooney 68 out of 278\n",
      "Analyzing mooney 69 out of 278\n",
      "Analyzing mooney 70 out of 278\n",
      "Analyzing mooney 71 out of 278\n",
      "Analyzing mooney 72 out of 278\n",
      "Analyzing mooney 73 out of 278\n",
      "Analyzing mooney 74 out of 278\n",
      "Analyzing mooney 75 out of 278\n",
      "Analyzing mooney 76 out of 278\n",
      "Analyzing mooney 77 out of 278\n",
      "Analyzing mooney 78 out of 278\n",
      "Analyzing mooney 79 out of 278\n",
      "Analyzing mooney 80 out of 278\n",
      "Analyzing mooney 81 out of 278\n",
      "Analyzing mooney 82 out of 278\n",
      "Analyzing mooney 83 out of 278\n",
      "Analyzing mooney 84 out of 278\n",
      "Analyzing mooney 85 out of 278\n",
      "Analyzing mooney 86 out of 278\n",
      "Analyzing mooney 87 out of 278\n",
      "Analyzing mooney 88 out of 278\n",
      "Analyzing mooney 89 out of 278\n",
      "Analyzing mooney 90 out of 278\n",
      "Analyzing mooney 91 out of 278\n",
      "Analyzing mooney 92 out of 278\n",
      "Analyzing mooney 93 out of 278\n",
      "Analyzing mooney 94 out of 278\n",
      "Analyzing mooney 95 out of 278\n",
      "Analyzing mooney 96 out of 278\n",
      "Analyzing mooney 97 out of 278\n",
      "Analyzing mooney 98 out of 278\n",
      "Analyzing mooney 99 out of 278\n",
      "Analyzing mooney 100 out of 278\n",
      "Analyzing mooney 101 out of 278\n",
      "Analyzing mooney 102 out of 278\n",
      "Analyzing mooney 103 out of 278\n",
      "Analyzing mooney 104 out of 278\n",
      "Analyzing mooney 105 out of 278\n",
      "Analyzing mooney 106 out of 278\n",
      "Analyzing mooney 107 out of 278\n",
      "Analyzing mooney 108 out of 278\n",
      "Analyzing mooney 109 out of 278\n",
      "Analyzing mooney 110 out of 278\n",
      "Analyzing mooney 111 out of 278\n",
      "Analyzing mooney 112 out of 278\n",
      "Analyzing mooney 113 out of 278\n",
      "Analyzing mooney 114 out of 278\n",
      "Analyzing mooney 115 out of 278\n",
      "Analyzing mooney 116 out of 278\n",
      "Analyzing mooney 117 out of 278\n",
      "Analyzing mooney 118 out of 278\n",
      "Analyzing mooney 119 out of 278\n",
      "Analyzing mooney 120 out of 278\n",
      "Analyzing mooney 121 out of 278\n",
      "Analyzing mooney 122 out of 278\n",
      "Analyzing mooney 123 out of 278\n",
      "Analyzing mooney 124 out of 278\n",
      "Analyzing mooney 125 out of 278\n",
      "Analyzing mooney 126 out of 278\n",
      "Analyzing mooney 127 out of 278\n",
      "Analyzing mooney 128 out of 278\n",
      "Analyzing mooney 129 out of 278\n",
      "Analyzing mooney 130 out of 278\n",
      "Analyzing mooney 131 out of 278\n",
      "Analyzing mooney 132 out of 278\n",
      "Analyzing mooney 133 out of 278\n",
      "Analyzing mooney 134 out of 278\n",
      "Analyzing mooney 135 out of 278\n",
      "Analyzing mooney 136 out of 278\n",
      "Analyzing mooney 137 out of 278\n",
      "Analyzing mooney 138 out of 278\n",
      "Analyzing mooney 139 out of 278\n",
      "Analyzing mooney 140 out of 278\n",
      "Analyzing mooney 141 out of 278\n",
      "Analyzing mooney 142 out of 278\n",
      "Analyzing mooney 143 out of 278\n",
      "Analyzing mooney 144 out of 278\n",
      "Analyzing mooney 145 out of 278\n",
      "Analyzing mooney 146 out of 278\n",
      "Analyzing mooney 147 out of 278\n",
      "Analyzing mooney 148 out of 278\n",
      "Analyzing mooney 149 out of 278\n",
      "Analyzing mooney 150 out of 278\n",
      "Analyzing mooney 151 out of 278\n",
      "Analyzing mooney 152 out of 278\n",
      "Analyzing mooney 153 out of 278\n",
      "Analyzing mooney 154 out of 278\n",
      "Analyzing mooney 155 out of 278\n",
      "Analyzing mooney 156 out of 278\n",
      "Analyzing mooney 157 out of 278\n",
      "Analyzing mooney 158 out of 278\n",
      "Analyzing mooney 159 out of 278\n",
      "Analyzing mooney 160 out of 278\n",
      "Analyzing mooney 161 out of 278\n",
      "Analyzing mooney 162 out of 278\n",
      "Analyzing mooney 163 out of 278\n",
      "Analyzing mooney 164 out of 278\n",
      "Analyzing mooney 165 out of 278\n",
      "Analyzing mooney 166 out of 278\n",
      "Analyzing mooney 167 out of 278\n",
      "Analyzing mooney 168 out of 278\n",
      "Analyzing mooney 169 out of 278\n",
      "Analyzing mooney 170 out of 278\n",
      "Analyzing mooney 171 out of 278\n",
      "Analyzing mooney 172 out of 278\n",
      "Analyzing mooney 173 out of 278\n",
      "Analyzing mooney 174 out of 278\n",
      "Analyzing mooney 175 out of 278\n",
      "Analyzing mooney 176 out of 278\n",
      "Analyzing mooney 177 out of 278\n",
      "Analyzing mooney 178 out of 278\n",
      "Analyzing mooney 179 out of 278\n",
      "Analyzing mooney 180 out of 278\n",
      "Analyzing mooney 181 out of 278\n",
      "Analyzing mooney 182 out of 278\n",
      "Analyzing mooney 183 out of 278\n",
      "Analyzing mooney 184 out of 278\n",
      "Analyzing mooney 185 out of 278\n",
      "Analyzing mooney 186 out of 278\n",
      "Analyzing mooney 187 out of 278\n",
      "Analyzing mooney 188 out of 278\n",
      "Analyzing mooney 189 out of 278\n",
      "Analyzing mooney 190 out of 278\n",
      "Analyzing mooney 191 out of 278\n",
      "Analyzing mooney 192 out of 278\n",
      "Analyzing mooney 193 out of 278\n",
      "Analyzing mooney 194 out of 278\n",
      "Analyzing mooney 195 out of 278\n",
      "Analyzing mooney 196 out of 278\n",
      "Analyzing mooney 197 out of 278\n",
      "Analyzing mooney 198 out of 278\n",
      "Analyzing mooney 199 out of 278\n",
      "Analyzing mooney 200 out of 278\n",
      "Analyzing mooney 201 out of 278\n",
      "Analyzing mooney 202 out of 278\n",
      "Analyzing mooney 203 out of 278\n",
      "Analyzing mooney 204 out of 278\n",
      "Analyzing mooney 205 out of 278\n",
      "Analyzing mooney 206 out of 278\n",
      "Analyzing mooney 207 out of 278\n",
      "Analyzing mooney 208 out of 278\n",
      "Analyzing mooney 209 out of 278\n",
      "Analyzing mooney 210 out of 278\n",
      "Analyzing mooney 211 out of 278\n",
      "Analyzing mooney 212 out of 278\n",
      "Analyzing mooney 213 out of 278\n",
      "Analyzing mooney 214 out of 278\n",
      "Analyzing mooney 215 out of 278\n",
      "Analyzing mooney 216 out of 278\n",
      "Analyzing mooney 217 out of 278\n",
      "Analyzing mooney 218 out of 278\n",
      "Analyzing mooney 219 out of 278\n",
      "Analyzing mooney 220 out of 278\n",
      "Analyzing mooney 221 out of 278\n",
      "Analyzing mooney 222 out of 278\n",
      "Analyzing mooney 223 out of 278\n",
      "Analyzing mooney 224 out of 278\n",
      "Analyzing mooney 225 out of 278\n",
      "Analyzing mooney 226 out of 278\n",
      "Analyzing mooney 227 out of 278\n",
      "Analyzing mooney 228 out of 278\n",
      "Analyzing mooney 229 out of 278\n",
      "Analyzing mooney 230 out of 278\n",
      "Analyzing mooney 231 out of 278\n",
      "Analyzing mooney 232 out of 278\n",
      "Analyzing mooney 233 out of 278\n",
      "Analyzing mooney 234 out of 278\n",
      "Analyzing mooney 235 out of 278\n",
      "Analyzing mooney 236 out of 278\n",
      "Analyzing mooney 237 out of 278\n",
      "Analyzing mooney 238 out of 278\n",
      "Analyzing mooney 239 out of 278\n",
      "Analyzing mooney 240 out of 278\n",
      "Analyzing mooney 241 out of 278\n",
      "Analyzing mooney 242 out of 278\n",
      "Analyzing mooney 243 out of 278\n",
      "Analyzing mooney 244 out of 278\n",
      "Analyzing mooney 245 out of 278\n",
      "Analyzing mooney 246 out of 278\n",
      "Analyzing mooney 247 out of 278\n",
      "Analyzing mooney 248 out of 278\n",
      "Analyzing mooney 249 out of 278\n",
      "Analyzing mooney 250 out of 278\n",
      "Analyzing mooney 251 out of 278\n",
      "Analyzing mooney 252 out of 278\n",
      "Analyzing mooney 253 out of 278\n",
      "Analyzing mooney 254 out of 278\n",
      "Analyzing mooney 255 out of 278\n",
      "Analyzing mooney 256 out of 278\n",
      "Analyzing mooney 257 out of 278\n",
      "Analyzing mooney 258 out of 278\n",
      "Analyzing mooney 259 out of 278\n",
      "Analyzing mooney 260 out of 278\n",
      "Analyzing mooney 261 out of 278\n",
      "Analyzing mooney 262 out of 278\n",
      "Analyzing mooney 263 out of 278\n",
      "Analyzing mooney 264 out of 278\n",
      "Analyzing mooney 265 out of 278\n",
      "Analyzing mooney 266 out of 278\n",
      "Analyzing mooney 267 out of 278\n",
      "Analyzing mooney 268 out of 278\n",
      "Analyzing mooney 269 out of 278\n",
      "Analyzing mooney 270 out of 278\n",
      "Analyzing mooney 271 out of 278\n",
      "Analyzing mooney 272 out of 278\n",
      "Analyzing mooney 273 out of 278\n",
      "Analyzing mooney 274 out of 278\n",
      "Analyzing mooney 275 out of 278\n",
      "Analyzing mooney 276 out of 278\n",
      "Analyzing mooney 277 out of 278\n",
      "Analyzing mooney 278 out of 278\n"
     ]
    }
   ],
   "source": [
    "row = 0\n",
    "for mooney in range(numImages):\n",
    "    \n",
    "    print('Analyzing mooney ' + str(mooney+1) + ' out of ' + str(numImages))\n",
    "    # extract that mooney data\n",
    "    mooney_data = data[data['IMAGE_NUMBER'] == mooney+1]\n",
    "    temp = mooney_data.groupby('RAW_ANSWER').count()\n",
    "    \n",
    "    perMooney.loc[row, 'IMAGE_NUMBER'] = np.unique(mooney_data['IMAGE_NUMBER'])[0]\n",
    "    perMooney.loc[row, 'REAL_NAME'] = realnames.loc[mooney, 'ORIGINAL']\n",
    "    \n",
    "    if len(temp) > 1:\n",
    "        perMooney.loc[row, 'FEMALE'] = (temp['SUBJECTID']['Female']/numSubs) * 100 # percentage of females\n",
    "        perMooney.loc[row, 'MALE'] = (temp['SUBJECTID']['Male']/numSubs) * 100 # percentage of females\n",
    "\n",
    "    elif temp.index[0] == 'Female':\n",
    "        perMooney.loc[row, 'FEMALE'] = (temp['SUBJECTID']['Female']/numSubs) * 100 # percentage of females\n",
    "        perMooney.loc[row, 'MALE'] = 0\n",
    "    elif temp.index[0] == 'Male':\n",
    "        perMooney.loc[row, 'MALE'] = (temp['SUBJECTID']['Male']/numSubs) * 100 # percentage of males\n",
    "        perMooney.loc[row, 'FEMALE'] = 0 \n",
    "\n",
    "    row = row + 1"
   ]
  },
  {
   "cell_type": "code",
   "execution_count": 8,
   "metadata": {
    "ExecuteTime": {
     "end_time": "2019-10-30T20:04:33.360587Z",
     "start_time": "2019-10-30T20:04:33.084244Z"
    }
   },
   "outputs": [
    {
     "data": {
      "text/plain": [
       "[<matplotlib.lines.Line2D at 0x1c21da2590>]"
      ]
     },
     "execution_count": 8,
     "metadata": {},
     "output_type": "execute_result"
    },
    {
     "data": {
      "image/png": "[encoded data removed]",
      "text/plain": [
       "<Figure size 432x288 with 1 Axes>"
      ]
     },
     "metadata": {
      "needs_background": "light"
     },
     "output_type": "display_data"
    }
   ],
   "source": [
    "plt.plot(range(numImages), perMooney['MALE'])"
   ]
  },
  {
   "cell_type": "markdown",
   "metadata": {},
   "source": [
    "# Select mooneys "
   ]
  },
  {
   "cell_type": "code",
   "execution_count": 9,
   "metadata": {
    "ExecuteTime": {
     "end_time": "2019-10-30T20:04:33.546587Z",
     "start_time": "2019-10-30T20:04:33.362719Z"
    }
   },
   "outputs": [],
   "source": [
    "# only select Mooneys that are above 90 percent in one of the two columns\n",
    "for mooney in range(numImages):\n",
    "    if perMooney.loc[mooney, 'MALE'] >= 90:\n",
    "        perMooney.loc[mooney, 'SELECT'] = 'Select'\n",
    "        perMooney.loc[mooney, 'CORRECT'] = 'Male'\n",
    "    elif perMooney.loc[mooney, 'FEMALE'] >= 90:\n",
    "        perMooney.loc[mooney, 'SELECT'] = 'Select'\n",
    "        perMooney.loc[mooney, 'CORRECT'] = 'Female'\n",
    "    else:\n",
    "        perMooney.loc[mooney, 'SELECT'] = 'No'\n",
    "        perMooney.loc[mooney, 'CORRECT'] = 'Not agreed'"
   ]
  },
  {
   "cell_type": "markdown",
   "metadata": {},
   "source": [
    "# Paper mooneys"
   ]
  },
  {
   "cell_type": "code",
   "execution_count": 10,
   "metadata": {
    "ExecuteTime": {
     "end_time": "2019-10-30T20:04:33.735179Z",
     "start_time": "2019-10-30T20:04:33.550684Z"
    }
   },
   "outputs": [],
   "source": [
    "number_yes = 0\n",
    "\n",
    "for mooney in range(numImages):\n",
    "    \n",
    "    # get real name\n",
    "    real_name = perMooney.loc[mooney, 'REAL_NAME']\n",
    "    if real_name in namematching['NAME_ORIGINAL'].unique():\n",
    "        number_yes = number_yes + 1\n",
    "        perMooney.loc[mooney, 'PAPER'] = 'Yes'\n",
    "        perMooney.loc[mooney, 'PAPER_NUMBER'] = number_yes\n",
    "\n",
    "    else:\n",
    "        perMooney.loc[mooney, 'PAPER'] = 'No'\n",
    "    "
   ]
  },
  {
   "cell_type": "markdown",
   "metadata": {},
   "source": [
    "# Save data "
   ]
  },
  {
   "cell_type": "code",
   "execution_count": 11,
   "metadata": {
    "ExecuteTime": {
     "end_time": "2019-10-30T20:04:33.797176Z",
     "start_time": "2019-10-30T20:04:33.737470Z"
    }
   },
   "outputs": [
    {
     "data": {
      "text/html": [
       "<div>\n",
       "<style scoped>\n",
       "    .dataframe tbody tr th:only-of-type {\n",
       "        vertical-align: middle;\n",
       "    }\n",
       "\n",
       "    .dataframe tbody tr th {\n",
       "        vertical-align: top;\n",
       "    }\n",
       "\n",
       "    .dataframe thead th {\n",
       "        text-align: right;\n",
       "    }\n",
       "</style>\n",
       "<table border=\"1\" class=\"dataframe\">\n",
       "  <thead>\n",
       "    <tr style=\"text-align: right;\">\n",
       "      <th></th>\n",
       "      <th>IMAGE_NUMBER</th>\n",
       "      <th>REAL_NAME</th>\n",
       "      <th>MALE</th>\n",
       "      <th>FEMALE</th>\n",
       "      <th>SELECT</th>\n",
       "      <th>PAPER</th>\n",
       "      <th>PAPER_NUMBER</th>\n",
       "    </tr>\n",
       "    <tr>\n",
       "      <th>CORRECT</th>\n",
       "      <th></th>\n",
       "      <th></th>\n",
       "      <th></th>\n",
       "      <th></th>\n",
       "      <th></th>\n",
       "      <th></th>\n",
       "      <th></th>\n",
       "    </tr>\n",
       "  </thead>\n",
       "  <tbody>\n",
       "    <tr>\n",
       "      <td>Female</td>\n",
       "      <td>99</td>\n",
       "      <td>99</td>\n",
       "      <td>99</td>\n",
       "      <td>99</td>\n",
       "      <td>99</td>\n",
       "      <td>99</td>\n",
       "      <td>22</td>\n",
       "    </tr>\n",
       "    <tr>\n",
       "      <td>Male</td>\n",
       "      <td>117</td>\n",
       "      <td>117</td>\n",
       "      <td>117</td>\n",
       "      <td>117</td>\n",
       "      <td>117</td>\n",
       "      <td>117</td>\n",
       "      <td>29</td>\n",
       "    </tr>\n",
       "    <tr>\n",
       "      <td>Not agreed</td>\n",
       "      <td>62</td>\n",
       "      <td>62</td>\n",
       "      <td>62</td>\n",
       "      <td>62</td>\n",
       "      <td>62</td>\n",
       "      <td>62</td>\n",
       "      <td>45</td>\n",
       "    </tr>\n",
       "  </tbody>\n",
       "</table>\n",
       "</div>"
      ],
      "text/plain": [
       "            IMAGE_NUMBER  REAL_NAME  MALE  FEMALE  SELECT  PAPER  PAPER_NUMBER\n",
       "CORRECT                                                                       \n",
       "Female                99         99    99      99      99     99            22\n",
       "Male                 117        117   117     117     117    117            29\n",
       "Not agreed            62         62    62      62      62     62            45"
      ]
     },
     "execution_count": 11,
     "metadata": {},
     "output_type": "execute_result"
    }
   ],
   "source": [
    "perMooney.groupby('CORRECT').count()"
   ]
  },
  {
   "cell_type": "code",
   "execution_count": 12,
   "metadata": {
    "ExecuteTime": {
     "end_time": "2019-10-30T20:04:33.850570Z",
     "start_time": "2019-10-30T20:04:33.799159Z"
    }
   },
   "outputs": [],
   "source": [
    "perMooney.to_csv('gender_qualtrics_processed.csv')"
   ]
  },
  {
   "cell_type": "markdown",
   "metadata": {},
   "source": [
    "# Do analysis for the paper faces"
   ]
  },
  {
   "cell_type": "code",
   "execution_count": 13,
   "metadata": {
    "ExecuteTime": {
     "end_time": "2019-10-30T20:04:33.912878Z",
     "start_time": "2019-10-30T20:04:33.852629Z"
    }
   },
   "outputs": [
    {
     "data": {
      "text/html": [
       "<div>\n",
       "<style scoped>\n",
       "    .dataframe tbody tr th:only-of-type {\n",
       "        vertical-align: middle;\n",
       "    }\n",
       "\n",
       "    .dataframe tbody tr th {\n",
       "        vertical-align: top;\n",
       "    }\n",
       "\n",
       "    .dataframe thead th {\n",
       "        text-align: right;\n",
       "    }\n",
       "</style>\n",
       "<table border=\"1\" class=\"dataframe\">\n",
       "  <thead>\n",
       "    <tr style=\"text-align: right;\">\n",
       "      <th></th>\n",
       "      <th>IMAGE_NUMBER</th>\n",
       "      <th>REAL_NAME</th>\n",
       "      <th>MALE</th>\n",
       "      <th>FEMALE</th>\n",
       "      <th>SELECT</th>\n",
       "      <th>PAPER</th>\n",
       "      <th>PAPER_NUMBER</th>\n",
       "      <th>CORRECT</th>\n",
       "    </tr>\n",
       "  </thead>\n",
       "  <tbody>\n",
       "    <tr>\n",
       "      <td>2</td>\n",
       "      <td>3</td>\n",
       "      <td>U0005.bmp</td>\n",
       "      <td>35</td>\n",
       "      <td>65</td>\n",
       "      <td>No</td>\n",
       "      <td>Yes</td>\n",
       "      <td>1</td>\n",
       "      <td>Not agreed</td>\n",
       "    </tr>\n",
       "    <tr>\n",
       "      <td>3</td>\n",
       "      <td>4</td>\n",
       "      <td>U0006.bmp</td>\n",
       "      <td>10</td>\n",
       "      <td>90</td>\n",
       "      <td>Select</td>\n",
       "      <td>Yes</td>\n",
       "      <td>2</td>\n",
       "      <td>Female</td>\n",
       "    </tr>\n",
       "    <tr>\n",
       "      <td>4</td>\n",
       "      <td>5</td>\n",
       "      <td>U0009.bmp</td>\n",
       "      <td>0</td>\n",
       "      <td>100</td>\n",
       "      <td>Select</td>\n",
       "      <td>Yes</td>\n",
       "      <td>3</td>\n",
       "      <td>Female</td>\n",
       "    </tr>\n",
       "    <tr>\n",
       "      <td>5</td>\n",
       "      <td>6</td>\n",
       "      <td>U0010.bmp</td>\n",
       "      <td>45</td>\n",
       "      <td>55</td>\n",
       "      <td>No</td>\n",
       "      <td>Yes</td>\n",
       "      <td>4</td>\n",
       "      <td>Not agreed</td>\n",
       "    </tr>\n",
       "    <tr>\n",
       "      <td>6</td>\n",
       "      <td>7</td>\n",
       "      <td>U0011.bmp</td>\n",
       "      <td>5</td>\n",
       "      <td>95</td>\n",
       "      <td>Select</td>\n",
       "      <td>Yes</td>\n",
       "      <td>5</td>\n",
       "      <td>Female</td>\n",
       "    </tr>\n",
       "    <tr>\n",
       "      <td>...</td>\n",
       "      <td>...</td>\n",
       "      <td>...</td>\n",
       "      <td>...</td>\n",
       "      <td>...</td>\n",
       "      <td>...</td>\n",
       "      <td>...</td>\n",
       "      <td>...</td>\n",
       "      <td>...</td>\n",
       "    </tr>\n",
       "    <tr>\n",
       "      <td>260</td>\n",
       "      <td>261</td>\n",
       "      <td>U0461.bmp</td>\n",
       "      <td>95</td>\n",
       "      <td>5</td>\n",
       "      <td>Select</td>\n",
       "      <td>Yes</td>\n",
       "      <td>92</td>\n",
       "      <td>Male</td>\n",
       "    </tr>\n",
       "    <tr>\n",
       "      <td>261</td>\n",
       "      <td>262</td>\n",
       "      <td>U0462.bmp</td>\n",
       "      <td>50</td>\n",
       "      <td>50</td>\n",
       "      <td>No</td>\n",
       "      <td>Yes</td>\n",
       "      <td>93</td>\n",
       "      <td>Not agreed</td>\n",
       "    </tr>\n",
       "    <tr>\n",
       "      <td>262</td>\n",
       "      <td>263</td>\n",
       "      <td>U0464.bmp</td>\n",
       "      <td>25</td>\n",
       "      <td>75</td>\n",
       "      <td>No</td>\n",
       "      <td>Yes</td>\n",
       "      <td>94</td>\n",
       "      <td>Not agreed</td>\n",
       "    </tr>\n",
       "    <tr>\n",
       "      <td>263</td>\n",
       "      <td>264</td>\n",
       "      <td>U0470.bmp</td>\n",
       "      <td>65</td>\n",
       "      <td>35</td>\n",
       "      <td>No</td>\n",
       "      <td>Yes</td>\n",
       "      <td>95</td>\n",
       "      <td>Not agreed</td>\n",
       "    </tr>\n",
       "    <tr>\n",
       "      <td>272</td>\n",
       "      <td>273</td>\n",
       "      <td>U0503.bmp</td>\n",
       "      <td>10</td>\n",
       "      <td>90</td>\n",
       "      <td>Select</td>\n",
       "      <td>Yes</td>\n",
       "      <td>96</td>\n",
       "      <td>Female</td>\n",
       "    </tr>\n",
       "  </tbody>\n",
       "</table>\n",
       "<p>96 rows × 8 columns</p>\n",
       "</div>"
      ],
      "text/plain": [
       "    IMAGE_NUMBER  REAL_NAME MALE FEMALE  SELECT PAPER PAPER_NUMBER     CORRECT\n",
       "2              3  U0005.bmp   35     65      No   Yes            1  Not agreed\n",
       "3              4  U0006.bmp   10     90  Select   Yes            2      Female\n",
       "4              5  U0009.bmp    0    100  Select   Yes            3      Female\n",
       "5              6  U0010.bmp   45     55      No   Yes            4  Not agreed\n",
       "6              7  U0011.bmp    5     95  Select   Yes            5      Female\n",
       "..           ...        ...  ...    ...     ...   ...          ...         ...\n",
       "260          261  U0461.bmp   95      5  Select   Yes           92        Male\n",
       "261          262  U0462.bmp   50     50      No   Yes           93  Not agreed\n",
       "262          263  U0464.bmp   25     75      No   Yes           94  Not agreed\n",
       "263          264  U0470.bmp   65     35      No   Yes           95  Not agreed\n",
       "272          273  U0503.bmp   10     90  Select   Yes           96      Female\n",
       "\n",
       "[96 rows x 8 columns]"
      ]
     },
     "execution_count": 13,
     "metadata": {},
     "output_type": "execute_result"
    }
   ],
   "source": [
    "perMooney[perMooney['PAPER'] == 'Yes']"
   ]
  },
  {
   "cell_type": "code",
   "execution_count": 14,
   "metadata": {
    "ExecuteTime": {
     "end_time": "2019-10-30T20:04:33.972671Z",
     "start_time": "2019-10-30T20:04:33.915616Z"
    }
   },
   "outputs": [],
   "source": [
    "paper_data = perMooney[perMooney['PAPER'] == 'Yes'] # this have only the traps"
   ]
  },
  {
   "cell_type": "code",
   "execution_count": 15,
   "metadata": {
    "ExecuteTime": {
     "end_time": "2019-10-30T20:04:34.079855Z",
     "start_time": "2019-10-30T20:04:33.988112Z"
    }
   },
   "outputs": [],
   "source": [
    "paper_data.to_csv('paper_gender_correct_data.csv')"
   ]
  },
  {
   "cell_type": "markdown",
   "metadata": {},
   "source": [
    "# Select"
   ]
  },
  {
   "cell_type": "code",
   "execution_count": 16,
   "metadata": {
    "ExecuteTime": {
     "end_time": "2019-10-30T20:04:34.164243Z",
     "start_time": "2019-10-30T20:04:34.082607Z"
    }
   },
   "outputs": [],
   "source": [
    "a = perMooney[perMooney['CORRECT'] != 'Not agreed']"
   ]
  },
  {
   "cell_type": "code",
   "execution_count": 17,
   "metadata": {
    "ExecuteTime": {
     "end_time": "2019-10-30T20:04:34.271754Z",
     "start_time": "2019-10-30T20:04:34.205878Z"
    }
   },
   "outputs": [],
   "source": [
    "a.to_csv('select_groundtruth.csv')"
   ]
  },
  {
   "cell_type": "code",
   "execution_count": null,
   "metadata": {},
   "outputs": [],
   "source": []
  }
 ],
 "metadata": {
  "kernelspec": {
   "display_name": "Python 3",
   "language": "python",
   "name": "python3"
  },
  "language_info": {
   "codemirror_mode": {
    "name": "ipython",
    "version": 3
   },
   "file_extension": ".py",
   "mimetype": "text/x-python",
   "name": "python",
   "nbconvert_exporter": "python",
   "pygments_lexer": "ipython3",
   "version": "3.8.2"
  },
  "toc": {
   "base_numbering": 1,
   "nav_menu": {},
   "number_sections": true,
   "sideBar": true,
   "skip_h1_title": false,
   "title_cell": "Table of Contents",
   "title_sidebar": "Contents",
   "toc_cell": false,
   "toc_position": {},
   "toc_section_display": true,
   "toc_window_display": true
  },
  "varInspector": {
   "cols": {
    "lenName": 16,
    "lenType": 16,
    "lenVar": 40
   },
   "kernels_config": {
    "python": {
     "delete_cmd_postfix": "",
     "delete_cmd_prefix": "del ",
     "library": "var_list.py",
     "varRefreshCmd": "print(var_dic_list())"
    },
    "r": {
     "delete_cmd_postfix": ") ",
     "delete_cmd_prefix": "rm(",
     "library": "var_list.r",
     "varRefreshCmd": "cat(var_dic_list()) "
    }
   },
   "types_to_exclude": [
    "module",
    "function",
    "builtin_function_or_method",
    "instance",
    "_Feature"
   ],
   "window_display": false
  }
 },
 "nbformat": 4,
 "nbformat_minor": 2
}
