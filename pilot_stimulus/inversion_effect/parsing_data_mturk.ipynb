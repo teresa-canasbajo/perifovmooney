{
 "cells": [
  {
   "cell_type": "markdown",
   "metadata": {},
   "source": [
    "This code loads the data recorded through qualtrics and mTurk and turns it into a table that can be analyzed."
   ]
  },
  {
   "cell_type": "markdown",
   "metadata": {},
   "source": [
    "# Load libraries"
   ]
  },
  {
   "cell_type": "code",
   "execution_count": 1,
   "metadata": {
    "ExecuteTime": {
     "end_time": "2019-10-29T06:29:07.476054Z",
     "start_time": "2019-10-29T06:29:05.582209Z"
    }
   },
   "outputs": [],
   "source": [
    "import os # for my mac info, folders, directories, etc.\n",
    "import pandas as pd # basic functions, 'as pd' will allow us to reference the pandas functions"
   ]
  },
  {
   "cell_type": "code",
   "execution_count": 2,
   "metadata": {
    "ExecuteTime": {
     "end_time": "2019-10-29T06:29:07.490576Z",
     "start_time": "2019-10-29T06:29:07.479648Z"
    }
   },
   "outputs": [
    {
     "name": "stdout",
     "output_type": "stream",
     "text": [
      "/Users/teresa/Dropbox/Psicologia/PhD/UC BERKELEY/WHITNEY LAB/CROWDINGMOONEY/qualtrics/HolisticGender_complete\n"
     ]
    }
   ],
   "source": [
    "# find your current directory\n",
    "print(os.getcwd())"
   ]
  },
  {
   "cell_type": "markdown",
   "metadata": {},
   "source": [
    "# Load data"
   ]
  },
  {
   "cell_type": "code",
   "execution_count": 3,
   "metadata": {
    "ExecuteTime": {
     "end_time": "2019-10-29T06:29:51.004650Z",
     "start_time": "2019-10-29T06:29:50.672615Z"
    }
   },
   "outputs": [
    {
     "data": {
      "text/html": [
       "<div>\n",
       "<style scoped>\n",
       "    .dataframe tbody tr th:only-of-type {\n",
       "        vertical-align: middle;\n",
       "    }\n",
       "\n",
       "    .dataframe tbody tr th {\n",
       "        vertical-align: top;\n",
       "    }\n",
       "\n",
       "    .dataframe thead th {\n",
       "        text-align: right;\n",
       "    }\n",
       "</style>\n",
       "<table border=\"1\" class=\"dataframe\">\n",
       "  <thead>\n",
       "    <tr style=\"text-align: right;\">\n",
       "      <th></th>\n",
       "      <th>StartDate</th>\n",
       "      <th>EndDate</th>\n",
       "      <th>Status</th>\n",
       "      <th>IPAddress</th>\n",
       "      <th>Progress</th>\n",
       "      <th>Duration (in seconds)</th>\n",
       "      <th>Finished</th>\n",
       "      <th>RecordedDate</th>\n",
       "      <th>ResponseId</th>\n",
       "      <th>RecipientLastName</th>\n",
       "      <th>...</th>\n",
       "      <th>555_timing_Last Click</th>\n",
       "      <th>555_timing_Page Submit</th>\n",
       "      <th>555_timing_Click Count</th>\n",
       "      <th>555_Q2</th>\n",
       "      <th>556_timing_First Click</th>\n",
       "      <th>556_timing_Last Click</th>\n",
       "      <th>556_timing_Page Submit</th>\n",
       "      <th>556_timing_Click Count</th>\n",
       "      <th>556_Q2</th>\n",
       "      <th>mTurkCode</th>\n",
       "    </tr>\n",
       "  </thead>\n",
       "  <tbody>\n",
       "    <tr>\n",
       "      <td>0</td>\n",
       "      <td>Start Date</td>\n",
       "      <td>End Date</td>\n",
       "      <td>Response Type</td>\n",
       "      <td>IP Address</td>\n",
       "      <td>Progress</td>\n",
       "      <td>Duration (in seconds)</td>\n",
       "      <td>Finished</td>\n",
       "      <td>Recorded Date</td>\n",
       "      <td>Response ID</td>\n",
       "      <td>Recipient Last Name</td>\n",
       "      <td>...</td>\n",
       "      <td>Timing - https://storage.cloud.google.com/moon...</td>\n",
       "      <td>Timing - https://storage.cloud.google.com/moon...</td>\n",
       "      <td>Timing - https://storage.cloud.google.com/moon...</td>\n",
       "      <td>https://storage.cloud.google.com/mooney_holist...</td>\n",
       "      <td>Timing - https://storage.cloud.google.com/moon...</td>\n",
       "      <td>Timing - https://storage.cloud.google.com/moon...</td>\n",
       "      <td>Timing - https://storage.cloud.google.com/moon...</td>\n",
       "      <td>Timing - https://storage.cloud.google.com/moon...</td>\n",
       "      <td>https://storage.cloud.google.com/mooney_holist...</td>\n",
       "      <td>mTurkCode</td>\n",
       "    </tr>\n",
       "    <tr>\n",
       "      <td>1</td>\n",
       "      <td>{\"ImportId\":\"startDate\",\"timeZone\":\"America/De...</td>\n",
       "      <td>{\"ImportId\":\"endDate\",\"timeZone\":\"America/Denv...</td>\n",
       "      <td>{\"ImportId\":\"status\"}</td>\n",
       "      <td>{\"ImportId\":\"ipAddress\"}</td>\n",
       "      <td>{\"ImportId\":\"progress\"}</td>\n",
       "      <td>{\"ImportId\":\"duration\"}</td>\n",
       "      <td>{\"ImportId\":\"finished\"}</td>\n",
       "      <td>{\"ImportId\":\"recordedDate\",\"timeZone\":\"America...</td>\n",
       "      <td>{\"ImportId\":\"_recordId\"}</td>\n",
       "      <td>{\"ImportId\":\"recipientLastName\"}</td>\n",
       "      <td>...</td>\n",
       "      <td>{\"ImportId\":\"555_QID9_LAST_CLICK\"}</td>\n",
       "      <td>{\"ImportId\":\"555_QID9_PAGE_SUBMIT\"}</td>\n",
       "      <td>{\"ImportId\":\"555_QID9_CLICK_COUNT\"}</td>\n",
       "      <td>{\"ImportId\":\"555_QID6\"}</td>\n",
       "      <td>{\"ImportId\":\"556_QID9_FIRST_CLICK\"}</td>\n",
       "      <td>{\"ImportId\":\"556_QID9_LAST_CLICK\"}</td>\n",
       "      <td>{\"ImportId\":\"556_QID9_PAGE_SUBMIT\"}</td>\n",
       "      <td>{\"ImportId\":\"556_QID9_CLICK_COUNT\"}</td>\n",
       "      <td>{\"ImportId\":\"556_QID6\"}</td>\n",
       "      <td>{\"ImportId\":\"mTurkCode\"}</td>\n",
       "    </tr>\n",
       "    <tr>\n",
       "      <td>2</td>\n",
       "      <td>2019-10-25 12:24:59</td>\n",
       "      <td>2019-10-25 12:47:51</td>\n",
       "      <td>IP Address</td>\n",
       "      <td>47.196.156.93</td>\n",
       "      <td>100</td>\n",
       "      <td>1371</td>\n",
       "      <td>True</td>\n",
       "      <td>2019-10-25 12:47:53</td>\n",
       "      <td>R_3e2jyYoIxfoyyT4</td>\n",
       "      <td>NaN</td>\n",
       "      <td>...</td>\n",
       "      <td>2.458</td>\n",
       "      <td>2.466</td>\n",
       "      <td>1</td>\n",
       "      <td>Male</td>\n",
       "      <td>2.433</td>\n",
       "      <td>2.433</td>\n",
       "      <td>2.441</td>\n",
       "      <td>1</td>\n",
       "      <td>Female</td>\n",
       "      <td>1499708</td>\n",
       "    </tr>\n",
       "    <tr>\n",
       "      <td>3</td>\n",
       "      <td>2019-10-25 12:25:39</td>\n",
       "      <td>2019-10-25 12:56:30</td>\n",
       "      <td>IP Address</td>\n",
       "      <td>45.36.89.164</td>\n",
       "      <td>100</td>\n",
       "      <td>1851</td>\n",
       "      <td>True</td>\n",
       "      <td>2019-10-25 12:56:32</td>\n",
       "      <td>R_zZH5hc18lA2gtDr</td>\n",
       "      <td>NaN</td>\n",
       "      <td>...</td>\n",
       "      <td>1.615</td>\n",
       "      <td>1.629</td>\n",
       "      <td>1</td>\n",
       "      <td>Male</td>\n",
       "      <td>2.324</td>\n",
       "      <td>2.324</td>\n",
       "      <td>2.338</td>\n",
       "      <td>1</td>\n",
       "      <td>Female</td>\n",
       "      <td>2523080</td>\n",
       "    </tr>\n",
       "    <tr>\n",
       "      <td>4</td>\n",
       "      <td>2019-10-25 12:34:07</td>\n",
       "      <td>2019-10-25 13:04:07</td>\n",
       "      <td>IP Address</td>\n",
       "      <td>76.187.65.25</td>\n",
       "      <td>100</td>\n",
       "      <td>1799</td>\n",
       "      <td>True</td>\n",
       "      <td>2019-10-25 13:04:10</td>\n",
       "      <td>R_3kuJcgDCoIgNH36</td>\n",
       "      <td>NaN</td>\n",
       "      <td>...</td>\n",
       "      <td>2.325</td>\n",
       "      <td>2.333</td>\n",
       "      <td>1</td>\n",
       "      <td>Male</td>\n",
       "      <td>2.605</td>\n",
       "      <td>2.605</td>\n",
       "      <td>2.613</td>\n",
       "      <td>1</td>\n",
       "      <td>Female</td>\n",
       "      <td>5465490</td>\n",
       "    </tr>\n",
       "  </tbody>\n",
       "</table>\n",
       "<p>5 rows × 2779 columns</p>\n",
       "</div>"
      ],
      "text/plain": [
       "                                           StartDate  \\\n",
       "0                                         Start Date   \n",
       "1  {\"ImportId\":\"startDate\",\"timeZone\":\"America/De...   \n",
       "2                                2019-10-25 12:24:59   \n",
       "3                                2019-10-25 12:25:39   \n",
       "4                                2019-10-25 12:34:07   \n",
       "\n",
       "                                             EndDate                 Status  \\\n",
       "0                                           End Date          Response Type   \n",
       "1  {\"ImportId\":\"endDate\",\"timeZone\":\"America/Denv...  {\"ImportId\":\"status\"}   \n",
       "2                                2019-10-25 12:47:51             IP Address   \n",
       "3                                2019-10-25 12:56:30             IP Address   \n",
       "4                                2019-10-25 13:04:07             IP Address   \n",
       "\n",
       "                  IPAddress                 Progress    Duration (in seconds)  \\\n",
       "0                IP Address                 Progress    Duration (in seconds)   \n",
       "1  {\"ImportId\":\"ipAddress\"}  {\"ImportId\":\"progress\"}  {\"ImportId\":\"duration\"}   \n",
       "2             47.196.156.93                      100                     1371   \n",
       "3              45.36.89.164                      100                     1851   \n",
       "4              76.187.65.25                      100                     1799   \n",
       "\n",
       "                  Finished                                       RecordedDate  \\\n",
       "0                 Finished                                      Recorded Date   \n",
       "1  {\"ImportId\":\"finished\"}  {\"ImportId\":\"recordedDate\",\"timeZone\":\"America...   \n",
       "2                     True                                2019-10-25 12:47:53   \n",
       "3                     True                                2019-10-25 12:56:32   \n",
       "4                     True                                2019-10-25 13:04:10   \n",
       "\n",
       "                 ResponseId                 RecipientLastName  ...  \\\n",
       "0               Response ID               Recipient Last Name  ...   \n",
       "1  {\"ImportId\":\"_recordId\"}  {\"ImportId\":\"recipientLastName\"}  ...   \n",
       "2         R_3e2jyYoIxfoyyT4                               NaN  ...   \n",
       "3         R_zZH5hc18lA2gtDr                               NaN  ...   \n",
       "4         R_3kuJcgDCoIgNH36                               NaN  ...   \n",
       "\n",
       "                               555_timing_Last Click  \\\n",
       "0  Timing - https://storage.cloud.google.com/moon...   \n",
       "1                 {\"ImportId\":\"555_QID9_LAST_CLICK\"}   \n",
       "2                                              2.458   \n",
       "3                                              1.615   \n",
       "4                                              2.325   \n",
       "\n",
       "                              555_timing_Page Submit  \\\n",
       "0  Timing - https://storage.cloud.google.com/moon...   \n",
       "1                {\"ImportId\":\"555_QID9_PAGE_SUBMIT\"}   \n",
       "2                                              2.466   \n",
       "3                                              1.629   \n",
       "4                                              2.333   \n",
       "\n",
       "                              555_timing_Click Count  \\\n",
       "0  Timing - https://storage.cloud.google.com/moon...   \n",
       "1                {\"ImportId\":\"555_QID9_CLICK_COUNT\"}   \n",
       "2                                                  1   \n",
       "3                                                  1   \n",
       "4                                                  1   \n",
       "\n",
       "                                              555_Q2  \\\n",
       "0  https://storage.cloud.google.com/mooney_holist...   \n",
       "1                            {\"ImportId\":\"555_QID6\"}   \n",
       "2                                               Male   \n",
       "3                                               Male   \n",
       "4                                               Male   \n",
       "\n",
       "                              556_timing_First Click  \\\n",
       "0  Timing - https://storage.cloud.google.com/moon...   \n",
       "1                {\"ImportId\":\"556_QID9_FIRST_CLICK\"}   \n",
       "2                                              2.433   \n",
       "3                                              2.324   \n",
       "4                                              2.605   \n",
       "\n",
       "                               556_timing_Last Click  \\\n",
       "0  Timing - https://storage.cloud.google.com/moon...   \n",
       "1                 {\"ImportId\":\"556_QID9_LAST_CLICK\"}   \n",
       "2                                              2.433   \n",
       "3                                              2.324   \n",
       "4                                              2.605   \n",
       "\n",
       "                              556_timing_Page Submit  \\\n",
       "0  Timing - https://storage.cloud.google.com/moon...   \n",
       "1                {\"ImportId\":\"556_QID9_PAGE_SUBMIT\"}   \n",
       "2                                              2.441   \n",
       "3                                              2.338   \n",
       "4                                              2.613   \n",
       "\n",
       "                              556_timing_Click Count  \\\n",
       "0  Timing - https://storage.cloud.google.com/moon...   \n",
       "1                {\"ImportId\":\"556_QID9_CLICK_COUNT\"}   \n",
       "2                                                  1   \n",
       "3                                                  1   \n",
       "4                                                  1   \n",
       "\n",
       "                                              556_Q2                 mTurkCode  \n",
       "0  https://storage.cloud.google.com/mooney_holist...                 mTurkCode  \n",
       "1                            {\"ImportId\":\"556_QID6\"}  {\"ImportId\":\"mTurkCode\"}  \n",
       "2                                             Female                   1499708  \n",
       "3                                             Female                   2523080  \n",
       "4                                             Female                   5465490  \n",
       "\n",
       "[5 rows x 2779 columns]"
      ]
     },
     "execution_count": 3,
     "metadata": {},
     "output_type": "execute_result"
    }
   ],
   "source": [
    "# get name of data file\n",
    "name_file = \"holistic_gender_complete.csv\"\n",
    "\n",
    "# load the data file, it must be in current directory\n",
    "data = pd.read_csv(name_file) \n",
    "\n",
    "# read head of file\n",
    "data.head()"
   ]
  },
  {
   "cell_type": "code",
   "execution_count": 4,
   "metadata": {
    "ExecuteTime": {
     "end_time": "2019-10-29T06:29:52.731307Z",
     "start_time": "2019-10-29T06:29:52.695332Z"
    }
   },
   "outputs": [
    {
     "data": {
      "text/html": [
       "<div>\n",
       "<style scoped>\n",
       "    .dataframe tbody tr th:only-of-type {\n",
       "        vertical-align: middle;\n",
       "    }\n",
       "\n",
       "    .dataframe tbody tr th {\n",
       "        vertical-align: top;\n",
       "    }\n",
       "\n",
       "    .dataframe thead th {\n",
       "        text-align: right;\n",
       "    }\n",
       "</style>\n",
       "<table border=\"1\" class=\"dataframe\">\n",
       "  <thead>\n",
       "    <tr style=\"text-align: right;\">\n",
       "      <th></th>\n",
       "      <th>StartDate</th>\n",
       "      <th>EndDate</th>\n",
       "      <th>Status</th>\n",
       "      <th>IPAddress</th>\n",
       "      <th>Progress</th>\n",
       "      <th>Duration (in seconds)</th>\n",
       "      <th>Finished</th>\n",
       "      <th>RecordedDate</th>\n",
       "      <th>ResponseId</th>\n",
       "      <th>RecipientLastName</th>\n",
       "      <th>...</th>\n",
       "      <th>555_timing_Last Click</th>\n",
       "      <th>555_timing_Page Submit</th>\n",
       "      <th>555_timing_Click Count</th>\n",
       "      <th>555_Q2</th>\n",
       "      <th>556_timing_First Click</th>\n",
       "      <th>556_timing_Last Click</th>\n",
       "      <th>556_timing_Page Submit</th>\n",
       "      <th>556_timing_Click Count</th>\n",
       "      <th>556_Q2</th>\n",
       "      <th>mTurkCode</th>\n",
       "    </tr>\n",
       "  </thead>\n",
       "  <tbody>\n",
       "    <tr>\n",
       "      <td>2</td>\n",
       "      <td>2019-10-25 12:24:59</td>\n",
       "      <td>2019-10-25 12:47:51</td>\n",
       "      <td>IP Address</td>\n",
       "      <td>47.196.156.93</td>\n",
       "      <td>100</td>\n",
       "      <td>1371</td>\n",
       "      <td>True</td>\n",
       "      <td>2019-10-25 12:47:53</td>\n",
       "      <td>R_3e2jyYoIxfoyyT4</td>\n",
       "      <td>NaN</td>\n",
       "      <td>...</td>\n",
       "      <td>2.458</td>\n",
       "      <td>2.466</td>\n",
       "      <td>1</td>\n",
       "      <td>Male</td>\n",
       "      <td>2.433</td>\n",
       "      <td>2.433</td>\n",
       "      <td>2.441</td>\n",
       "      <td>1</td>\n",
       "      <td>Female</td>\n",
       "      <td>1499708</td>\n",
       "    </tr>\n",
       "    <tr>\n",
       "      <td>3</td>\n",
       "      <td>2019-10-25 12:25:39</td>\n",
       "      <td>2019-10-25 12:56:30</td>\n",
       "      <td>IP Address</td>\n",
       "      <td>45.36.89.164</td>\n",
       "      <td>100</td>\n",
       "      <td>1851</td>\n",
       "      <td>True</td>\n",
       "      <td>2019-10-25 12:56:32</td>\n",
       "      <td>R_zZH5hc18lA2gtDr</td>\n",
       "      <td>NaN</td>\n",
       "      <td>...</td>\n",
       "      <td>1.615</td>\n",
       "      <td>1.629</td>\n",
       "      <td>1</td>\n",
       "      <td>Male</td>\n",
       "      <td>2.324</td>\n",
       "      <td>2.324</td>\n",
       "      <td>2.338</td>\n",
       "      <td>1</td>\n",
       "      <td>Female</td>\n",
       "      <td>2523080</td>\n",
       "    </tr>\n",
       "    <tr>\n",
       "      <td>4</td>\n",
       "      <td>2019-10-25 12:34:07</td>\n",
       "      <td>2019-10-25 13:04:07</td>\n",
       "      <td>IP Address</td>\n",
       "      <td>76.187.65.25</td>\n",
       "      <td>100</td>\n",
       "      <td>1799</td>\n",
       "      <td>True</td>\n",
       "      <td>2019-10-25 13:04:10</td>\n",
       "      <td>R_3kuJcgDCoIgNH36</td>\n",
       "      <td>NaN</td>\n",
       "      <td>...</td>\n",
       "      <td>2.325</td>\n",
       "      <td>2.333</td>\n",
       "      <td>1</td>\n",
       "      <td>Male</td>\n",
       "      <td>2.605</td>\n",
       "      <td>2.605</td>\n",
       "      <td>2.613</td>\n",
       "      <td>1</td>\n",
       "      <td>Female</td>\n",
       "      <td>5465490</td>\n",
       "    </tr>\n",
       "    <tr>\n",
       "      <td>5</td>\n",
       "      <td>2019-10-25 12:35:25</td>\n",
       "      <td>2019-10-25 13:04:14</td>\n",
       "      <td>IP Address</td>\n",
       "      <td>76.18.212.179</td>\n",
       "      <td>100</td>\n",
       "      <td>1728</td>\n",
       "      <td>True</td>\n",
       "      <td>2019-10-25 13:04:16</td>\n",
       "      <td>R_2eX6AIInNlAlv7z</td>\n",
       "      <td>NaN</td>\n",
       "      <td>...</td>\n",
       "      <td>2.297</td>\n",
       "      <td>2.305</td>\n",
       "      <td>1</td>\n",
       "      <td>Male</td>\n",
       "      <td>2.113</td>\n",
       "      <td>2.113</td>\n",
       "      <td>2.121</td>\n",
       "      <td>1</td>\n",
       "      <td>Female</td>\n",
       "      <td>3494466</td>\n",
       "    </tr>\n",
       "    <tr>\n",
       "      <td>6</td>\n",
       "      <td>2019-10-25 12:38:14</td>\n",
       "      <td>2019-10-25 13:06:18</td>\n",
       "      <td>IP Address</td>\n",
       "      <td>73.236.40.189</td>\n",
       "      <td>100</td>\n",
       "      <td>1683</td>\n",
       "      <td>True</td>\n",
       "      <td>2019-10-25 13:06:19</td>\n",
       "      <td>R_3fcsN0AjbFMncP7</td>\n",
       "      <td>NaN</td>\n",
       "      <td>...</td>\n",
       "      <td>1.927</td>\n",
       "      <td>1.934</td>\n",
       "      <td>1</td>\n",
       "      <td>Male</td>\n",
       "      <td>3.92</td>\n",
       "      <td>3.92</td>\n",
       "      <td>3.926</td>\n",
       "      <td>1</td>\n",
       "      <td>Female</td>\n",
       "      <td>3878157</td>\n",
       "    </tr>\n",
       "  </tbody>\n",
       "</table>\n",
       "<p>5 rows × 2779 columns</p>\n",
       "</div>"
      ],
      "text/plain": [
       "             StartDate              EndDate      Status      IPAddress  \\\n",
       "2  2019-10-25 12:24:59  2019-10-25 12:47:51  IP Address  47.196.156.93   \n",
       "3  2019-10-25 12:25:39  2019-10-25 12:56:30  IP Address   45.36.89.164   \n",
       "4  2019-10-25 12:34:07  2019-10-25 13:04:07  IP Address   76.187.65.25   \n",
       "5  2019-10-25 12:35:25  2019-10-25 13:04:14  IP Address  76.18.212.179   \n",
       "6  2019-10-25 12:38:14  2019-10-25 13:06:18  IP Address  73.236.40.189   \n",
       "\n",
       "  Progress Duration (in seconds) Finished         RecordedDate  \\\n",
       "2      100                  1371     True  2019-10-25 12:47:53   \n",
       "3      100                  1851     True  2019-10-25 12:56:32   \n",
       "4      100                  1799     True  2019-10-25 13:04:10   \n",
       "5      100                  1728     True  2019-10-25 13:04:16   \n",
       "6      100                  1683     True  2019-10-25 13:06:19   \n",
       "\n",
       "          ResponseId RecipientLastName  ... 555_timing_Last Click  \\\n",
       "2  R_3e2jyYoIxfoyyT4               NaN  ...                 2.458   \n",
       "3  R_zZH5hc18lA2gtDr               NaN  ...                 1.615   \n",
       "4  R_3kuJcgDCoIgNH36               NaN  ...                 2.325   \n",
       "5  R_2eX6AIInNlAlv7z               NaN  ...                 2.297   \n",
       "6  R_3fcsN0AjbFMncP7               NaN  ...                 1.927   \n",
       "\n",
       "  555_timing_Page Submit 555_timing_Click Count 555_Q2 556_timing_First Click  \\\n",
       "2                  2.466                      1   Male                  2.433   \n",
       "3                  1.629                      1   Male                  2.324   \n",
       "4                  2.333                      1   Male                  2.605   \n",
       "5                  2.305                      1   Male                  2.113   \n",
       "6                  1.934                      1   Male                   3.92   \n",
       "\n",
       "  556_timing_Last Click 556_timing_Page Submit 556_timing_Click Count  556_Q2  \\\n",
       "2                 2.433                  2.441                      1  Female   \n",
       "3                 2.324                  2.338                      1  Female   \n",
       "4                 2.605                  2.613                      1  Female   \n",
       "5                 2.113                  2.121                      1  Female   \n",
       "6                  3.92                  3.926                      1  Female   \n",
       "\n",
       "  mTurkCode  \n",
       "2   1499708  \n",
       "3   2523080  \n",
       "4   5465490  \n",
       "5   3494466  \n",
       "6   3878157  \n",
       "\n",
       "[5 rows x 2779 columns]"
      ]
     },
     "execution_count": 4,
     "metadata": {},
     "output_type": "execute_result"
    }
   ],
   "source": [
    "# remove two first rows, not necessary\n",
    "data = data.drop([0, 1])\n",
    "data.head()"
   ]
  },
  {
   "cell_type": "code",
   "execution_count": 27,
   "metadata": {
    "ExecuteTime": {
     "end_time": "2019-10-29T16:56:35.379317Z",
     "start_time": "2019-10-29T16:56:35.375489Z"
    }
   },
   "outputs": [],
   "source": [
    "column_index = first_image + (551 * nVariablesPerImage)"
   ]
  },
  {
   "cell_type": "code",
   "execution_count": 29,
   "metadata": {
    "ExecuteTime": {
     "end_time": "2019-10-29T16:56:53.495367Z",
     "start_time": "2019-10-29T16:56:53.488550Z"
    }
   },
   "outputs": [
    {
     "name": "stdout",
     "output_type": "stream",
     "text": [
      "2     1499708\n",
      "3     2523080\n",
      "4     5465490\n",
      "5     3494466\n",
      "6     3878157\n",
      "7     9537382\n",
      "8     6144045\n",
      "9     4640487\n",
      "10    1187475\n",
      "11    8784890\n",
      "12    8401514\n",
      "13    1423169\n",
      "14    1819481\n",
      "15     501299\n",
      "16    7290793\n",
      "17      69301\n",
      "18    1325575\n",
      "19    1210903\n",
      "20    3385664\n",
      "21    6061683\n",
      "Name: mTurkCode, dtype: object\n"
     ]
    }
   ],
   "source": [
    "# print(data.get(\"StartDate\")[1])\n",
    "print(data.iloc[:, column_index+1])"
   ]
  },
  {
   "cell_type": "markdown",
   "metadata": {},
   "source": [
    "# Name columns"
   ]
  },
  {
   "cell_type": "code",
   "execution_count": 6,
   "metadata": {
    "ExecuteTime": {
     "end_time": "2019-10-29T06:30:14.759941Z",
     "start_time": "2019-10-29T06:30:14.756000Z"
    }
   },
   "outputs": [],
   "source": [
    "# label columns\n",
    "SUBJECTID = 0\n",
    "mTurkCode = 1\n",
    "TRIALNUM = 2\n",
    "IMAGE_NUMBER = 2\n",
    "RAW_ANSWER = 4 "
   ]
  },
  {
   "cell_type": "code",
   "execution_count": 30,
   "metadata": {
    "ExecuteTime": {
     "end_time": "2019-10-29T16:57:09.312274Z",
     "start_time": "2019-10-29T16:57:09.307435Z"
    }
   },
   "outputs": [
    {
     "name": "stdout",
     "output_type": "stream",
     "text": [
      "20\n"
     ]
    }
   ],
   "source": [
    "nSubjects = len(data) # get number of subjects\n",
    "nImages = 552\n",
    "nVariablesPerImage = 5\n",
    "print(nSubjects)"
   ]
  },
  {
   "cell_type": "markdown",
   "metadata": {},
   "source": [
    "# Initiate variables"
   ]
  },
  {
   "cell_type": "code",
   "execution_count": 8,
   "metadata": {
    "ExecuteTime": {
     "end_time": "2019-10-29T06:30:24.578662Z",
     "start_time": "2019-10-29T06:30:24.470560Z"
    }
   },
   "outputs": [],
   "source": [
    "first_image = 22\n",
    "\n",
    "columns = ['SUBJECTID', 'mTurkCode','TRIALNUM', 'IMAGE_NUMBER', 'RAW_ANSWER', 'IS_TRAP', 'ORIENTATION'] # number of columns\n",
    "index = range(nImages*nSubjects) # number of rows\n",
    "mat = pd.DataFrame(data, index=index, columns=columns)"
   ]
  },
  {
   "cell_type": "markdown",
   "metadata": {},
   "source": [
    "# Start subject loop"
   ]
  },
  {
   "cell_type": "code",
   "execution_count": 39,
   "metadata": {
    "ExecuteTime": {
     "end_time": "2019-10-29T17:12:39.306732Z",
     "start_time": "2019-10-29T17:11:49.431649Z"
    }
   },
   "outputs": [
    {
     "name": "stdout",
     "output_type": "stream",
     "text": [
      "Processing subject 0\n",
      "Processing subject 1\n",
      "Processing subject 2\n",
      "Processing subject 3\n",
      "Processing subject 4\n",
      "Processing subject 5\n",
      "Processing subject 6\n",
      "Processing subject 7\n",
      "Processing subject 8\n",
      "Processing subject 9\n",
      "Processing subject 10\n",
      "Processing subject 11\n",
      "Processing subject 12\n",
      "Processing subject 13\n",
      "Processing subject 14\n",
      "Processing subject 15\n",
      "Processing subject 16\n",
      "Processing subject 17\n",
      "Processing subject 18\n",
      "Processing subject 19\n",
      "Done!\n"
     ]
    }
   ],
   "source": [
    "row = 0\n",
    "for subject_loop in range(nSubjects):\n",
    "    print('Processing subject ' + str(subject_loop))\n",
    "    # each subject's data in a row\n",
    "    \n",
    "    id_sub = subject_loop + 1 \n",
    "    \n",
    "    data_subject = data.iloc[subject_loop] # get only the data from that subject\n",
    "    \n",
    "    workerID = data_subject['mTurkCode'] # get mturk code\n",
    "\n",
    "    \n",
    "    for image in range(nImages):\n",
    "        \n",
    "#         if trial_loop == 0:\n",
    "#             row_number = subject_loop*nImages\n",
    "#         else:\n",
    "#             row_number = row_number + 1\n",
    "            \n",
    "        column_index = first_image + (image * nVariablesPerImage) # starts always by column 18\n",
    "        image_number = image + 1 \n",
    "        \n",
    "        # add to matrix\n",
    "        mat.loc[row, 'SUBJECTID'] = id_sub # subject number\n",
    "        mat.loc[row, 'mTurkCode'] = workerID\n",
    "        mat.loc[row, 'IMAGE_NUMBER'] = image_number\n",
    "        mat.loc[row, 'RAW_ANSWER'] = data_subject.iloc[column_index] \n",
    "        \n",
    "        if image_number < 274:\n",
    "            mat.loc[row, 'ORIENTATION'] = 'upright'\n",
    "            mat.loc[row, 'IS_TRAP'] = 'no'\n",
    "        elif image_number >= 274 and image_number < 549:\n",
    "            mat.loc[row, 'ORIENTATION'] = 'inverted'\n",
    "            mat.loc[row, 'IS_TRAP'] = 'no'\n",
    "        else:\n",
    "            mat.loc[row, 'ORIENTATION'] = 'trap'\n",
    "            mat.loc[row, 'IS_TRAP'] = 'yes'\n",
    "            \n",
    "        row = row + 1\n",
    "        \n",
    "        \n",
    "print('Done!')"
   ]
  },
  {
   "cell_type": "code",
   "execution_count": 41,
   "metadata": {
    "ExecuteTime": {
     "end_time": "2019-10-29T17:13:20.341752Z",
     "start_time": "2019-10-29T17:13:20.331586Z"
    }
   },
   "outputs": [
    {
     "name": "stdout",
     "output_type": "stream",
     "text": [
      "       SUBJECTID mTurkCode  TRIALNUM  IMAGE_NUMBER RAW_ANSWER IS_TRAP  \\\n",
      "0            1.0   1499708       NaN           1.0     Female      no   \n",
      "1            1.0   1499708       NaN           2.0     Female      no   \n",
      "2            1.0   1499708       NaN           3.0       Male      no   \n",
      "3            1.0   1499708       NaN           4.0     Female      no   \n",
      "4            1.0   1499708       NaN           5.0     Female      no   \n",
      "...          ...       ...       ...           ...        ...     ...   \n",
      "11035       20.0   6061683       NaN         548.0       Male      no   \n",
      "11036       20.0   6061683       NaN         549.0       Male     yes   \n",
      "11037       20.0   6061683       NaN         550.0     Female     yes   \n",
      "11038       20.0   6061683       NaN         551.0       Male     yes   \n",
      "11039       20.0   6061683       NaN         552.0     Female     yes   \n",
      "\n",
      "      ORIENTATION  \n",
      "0         upright  \n",
      "1         upright  \n",
      "2         upright  \n",
      "3         upright  \n",
      "4         upright  \n",
      "...           ...  \n",
      "11035    inverted  \n",
      "11036        trap  \n",
      "11037        trap  \n",
      "11038        trap  \n",
      "11039        trap  \n",
      "\n",
      "[11040 rows x 7 columns]\n"
     ]
    }
   ],
   "source": [
    "print(mat)"
   ]
  },
  {
   "cell_type": "markdown",
   "metadata": {},
   "source": []
  },
  {
   "cell_type": "markdown",
   "metadata": {},
   "source": [
    "# Exclude subjects that fall in trap "
   ]
  },
  {
   "cell_type": "code",
   "execution_count": 42,
   "metadata": {
    "ExecuteTime": {
     "end_time": "2019-10-29T17:13:22.837598Z",
     "start_time": "2019-10-29T17:13:22.825881Z"
    }
   },
   "outputs": [],
   "source": [
    "traps =mat[mat['IS_TRAP']=='yes']\n",
    "\n",
    "## IMPORTANT: OBAMA IMAGE (193) DID NOT SHOW ON EXPERIMENT"
   ]
  },
  {
   "cell_type": "code",
   "execution_count": 12,
   "metadata": {
    "ExecuteTime": {
     "end_time": "2019-10-25T22:36:01.321832Z",
     "start_time": "2019-10-25T22:36:01.313204Z"
    }
   },
   "outputs": [],
   "source": [
    "# mat.drop(mat[mat['SUBJECTID'] == 9].index, inplace=True)"
   ]
  },
  {
   "cell_type": "markdown",
   "metadata": {},
   "source": [
    "# Save data file"
   ]
  },
  {
   "cell_type": "code",
   "execution_count": 48,
   "metadata": {
    "ExecuteTime": {
     "end_time": "2019-10-29T17:14:51.576674Z",
     "start_time": "2019-10-29T17:14:51.511176Z"
    }
   },
   "outputs": [],
   "source": [
    "mat.to_csv('holistic_complete_preprocessed.csv')"
   ]
  },
  {
   "cell_type": "code",
   "execution_count": 51,
   "metadata": {
    "ExecuteTime": {
     "end_time": "2019-10-29T17:23:11.840179Z",
     "start_time": "2019-10-29T17:23:11.833445Z"
    }
   },
   "outputs": [
    {
     "data": {
      "text/plain": [
       "552"
      ]
     },
     "execution_count": 51,
     "metadata": {},
     "output_type": "execute_result"
    }
   ],
   "source": [
    "import numpy as np\n",
    "len(np.unique(mat['IMAGE_NUMBER']))"
   ]
  },
  {
   "cell_type": "code",
   "execution_count": null,
   "metadata": {},
   "outputs": [],
   "source": []
  }
 ],
 "metadata": {
  "kernelspec": {
   "display_name": "Python 3",
   "language": "python",
   "name": "python3"
  },
  "language_info": {
   "codemirror_mode": {
    "name": "ipython",
    "version": 3
   },
   "file_extension": ".py",
   "mimetype": "text/x-python",
   "name": "python",
   "nbconvert_exporter": "python",
   "pygments_lexer": "ipython3",
   "version": "3.7.6"
  },
  "toc": {
   "base_numbering": 1,
   "nav_menu": {},
   "number_sections": true,
   "sideBar": true,
   "skip_h1_title": false,
   "title_cell": "Table of Contents",
   "title_sidebar": "Contents",
   "toc_cell": false,
   "toc_position": {},
   "toc_section_display": true,
   "toc_window_display": true
  },
  "varInspector": {
   "cols": {
    "lenName": 16,
    "lenType": 16,
    "lenVar": 40
   },
   "kernels_config": {
    "python": {
     "delete_cmd_postfix": "",
     "delete_cmd_prefix": "del ",
     "library": "var_list.py",
     "varRefreshCmd": "print(var_dic_list())"
    },
    "r": {
     "delete_cmd_postfix": ") ",
     "delete_cmd_prefix": "rm(",
     "library": "var_list.r",
     "varRefreshCmd": "cat(var_dic_list()) "
    }
   },
   "types_to_exclude": [
    "module",
    "function",
    "builtin_function_or_method",
    "instance",
    "_Feature"
   ],
   "window_display": false
  }
 },
 "nbformat": 4,
 "nbformat_minor": 2
}
