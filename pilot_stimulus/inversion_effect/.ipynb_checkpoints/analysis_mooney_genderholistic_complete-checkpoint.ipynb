{
 "cells": [
  {
   "cell_type": "markdown",
   "metadata": {},
   "source": [
    "# Packages"
   ]
  },
  {
   "cell_type": "code",
   "execution_count": 18,
   "metadata": {
    "ExecuteTime": {
     "end_time": "2020-08-18T21:00:04.055035Z",
     "start_time": "2020-08-18T21:00:03.989645Z"
    }
   },
   "outputs": [
    {
     "name": "stdout",
     "output_type": "stream",
     "text": [
      "The autoreload extension is already loaded. To reload it, use:\n",
      "  %reload_ext autoreload\n"
     ]
    }
   ],
   "source": [
    "# load libraries\n",
    "import statsmodels.stats.multicomp\n",
    "from statsmodels.formula.api import ols\n",
    "import statsmodels.api as sm\n",
    "import researchpy as rp\n",
    "import scipy\n",
    "from scipy import stats as stats\n",
    "from scipy import stats as cp\n",
    "import os\n",
    "from scipy.io import loadmat\n",
    "import pandas as pd\n",
    "import numpy as np\n",
    "import matplotlib.pyplot as plt\n",
    "import matplotlib as matplotlib\n",
    "import seaborn as sns\n",
    "import glob as glob\n",
    "import statsFuncs.mean_confidence_interval as ms\n",
    "import plotFuncs\n",
    "from natsort import natsorted\n",
    "sns.set(color_codes=True)\n",
    "\n",
    "\n",
    "# magic functions\n",
    "%load_ext autoreload\n",
    "%autoreload 2\n",
    "%matplotlib inline\n",
    "\n",
    "# create dummy class for struct-like dataframes\n",
    "\n",
    "\n",
    "class structtype():\n",
    "    pass\n",
    "\n",
    "\n",
    "matplotlib.rc('xtick', labelsize=20)\n",
    "matplotlib.rc('ytick', labelsize=20)\n",
    "matplotlib.rcParams.update({'axes.labelsize': 16.0})"
   ]
  },
  {
   "cell_type": "markdown",
   "metadata": {},
   "source": [
    "# Paths "
   ]
  },
  {
   "cell_type": "code",
   "execution_count": 19,
   "metadata": {
    "ExecuteTime": {
     "end_time": "2020-08-18T21:00:04.298180Z",
     "start_time": "2020-08-18T21:00:04.061111Z"
    }
   },
   "outputs": [],
   "source": [
    "mainpath = os.getcwd()\n",
    "groundtruth_path =  mainpath + '/../GroundTruth'"
   ]
  },
  {
   "cell_type": "markdown",
   "metadata": {},
   "source": [
    "# Load data"
   ]
  },
  {
   "cell_type": "code",
   "execution_count": 20,
   "metadata": {
    "ExecuteTime": {
     "end_time": "2020-08-18T21:00:04.596977Z",
     "start_time": "2020-08-18T21:00:04.362521Z"
    }
   },
   "outputs": [],
   "source": [
    "data = pd.read_csv('holistic_complete_preprocessed.csv', index_col=0)\n",
    "realnames = pd.read_csv('pathsForQualtrics_complete.csv')\n",
    "groundtruth = pd.read_csv(groundtruth_path + '/gender_qualtrics_processed.csv', index_col = 0)\n",
    "groundtruth.reset_index(inplace=True, drop=True)\n",
    "groundtruth_paper = pd.read_csv(groundtruth_path + '/paper_gender_correct_data.csv', index_col = 0)\n",
    "groundtruth_paper.reset_index(inplace=True, drop=True)"
   ]
  },
  {
   "cell_type": "markdown",
   "metadata": {},
   "source": [
    "# Filter traps "
   ]
  },
  {
   "cell_type": "code",
   "execution_count": 21,
   "metadata": {
    "ExecuteTime": {
     "end_time": "2020-08-18T21:00:04.858865Z",
     "start_time": "2020-08-18T21:00:04.637242Z"
    }
   },
   "outputs": [],
   "source": [
    "data_good = data[data['IS_TRAP'] != 'yes']\n",
    "groundtruth_good = groundtruth[:-4]"
   ]
  },
  {
   "cell_type": "markdown",
   "metadata": {},
   "source": [
    "# Per Mooney"
   ]
  },
  {
   "cell_type": "code",
   "execution_count": 22,
   "metadata": {
    "ExecuteTime": {
     "end_time": "2020-08-18T21:00:05.004096Z",
     "start_time": "2020-08-18T21:00:04.866399Z"
    }
   },
   "outputs": [],
   "source": [
    "numImages = len(np.unique(data['IMAGE_NUMBER'])) # 552\n",
    "papermooneys = np.unique(groundtruth_paper['REAL_NAME'])\n",
    "numTraps = 4\n",
    "numImages_nottrap = numImages-numTraps\n",
    "numSubs = len(np.unique(data['SUBJECTID']))\n",
    "perMooney = pd.DataFrame(index=range(len(groundtruth_good[groundtruth_good['CORRECT'] != 'Not agreed'])), columns=['SUBJECTID', 'IMAGE_NUMBER', 'REAL_NAME', 'INVERTED', 'UPRIGHT', 'HOLISTIC', 'PAPER', 'PAPER_NUMBER'])"
   ]
  },
  {
   "cell_type": "code",
   "execution_count": 23,
   "metadata": {
    "ExecuteTime": {
     "end_time": "2020-08-18T21:00:27.642166Z",
     "start_time": "2020-08-18T21:00:05.017189Z"
    },
    "code_folding": []
   },
   "outputs": [
    {
     "name": "stdout",
     "output_type": "stream",
     "text": [
      "Analyzing mooney 1 out of 274.0\n",
      "Analyzing mooney 2 out of 274.0\n",
      "Analyzing mooney 3 out of 274.0\n",
      "Analyzing mooney 4 out of 274.0\n",
      "Analyzing mooney 5 out of 274.0\n",
      "Analyzing mooney 6 out of 274.0\n",
      "Analyzing mooney 7 out of 274.0\n",
      "Analyzing mooney 8 out of 274.0\n",
      "Analyzing mooney 9 out of 274.0\n",
      "Analyzing mooney 10 out of 274.0\n",
      "Analyzing mooney 11 out of 274.0\n",
      "Analyzing mooney 12 out of 274.0\n",
      "Analyzing mooney 13 out of 274.0\n",
      "Analyzing mooney 14 out of 274.0\n",
      "Analyzing mooney 15 out of 274.0\n",
      "Analyzing mooney 16 out of 274.0\n",
      "Analyzing mooney 17 out of 274.0\n",
      "Analyzing mooney 18 out of 274.0\n",
      "Analyzing mooney 19 out of 274.0\n",
      "Analyzing mooney 20 out of 274.0\n",
      "Analyzing mooney 21 out of 274.0\n",
      "Analyzing mooney 22 out of 274.0\n",
      "Analyzing mooney 23 out of 274.0\n",
      "Analyzing mooney 24 out of 274.0\n",
      "Analyzing mooney 25 out of 274.0\n",
      "Analyzing mooney 26 out of 274.0\n",
      "Analyzing mooney 27 out of 274.0\n",
      "Analyzing mooney 28 out of 274.0\n",
      "Analyzing mooney 29 out of 274.0\n",
      "Analyzing mooney 30 out of 274.0\n",
      "Analyzing mooney 31 out of 274.0\n",
      "Analyzing mooney 32 out of 274.0\n",
      "Analyzing mooney 33 out of 274.0\n",
      "Analyzing mooney 34 out of 274.0\n",
      "Analyzing mooney 35 out of 274.0\n",
      "Analyzing mooney 36 out of 274.0\n",
      "Analyzing mooney 37 out of 274.0\n",
      "Analyzing mooney 38 out of 274.0\n",
      "Analyzing mooney 39 out of 274.0\n",
      "Analyzing mooney 40 out of 274.0\n",
      "Analyzing mooney 41 out of 274.0\n",
      "Analyzing mooney 42 out of 274.0\n",
      "Analyzing mooney 43 out of 274.0\n",
      "Analyzing mooney 44 out of 274.0\n",
      "Analyzing mooney 45 out of 274.0\n",
      "Analyzing mooney 46 out of 274.0\n",
      "Analyzing mooney 47 out of 274.0\n",
      "Analyzing mooney 48 out of 274.0\n",
      "Analyzing mooney 49 out of 274.0\n",
      "Analyzing mooney 50 out of 274.0\n",
      "Analyzing mooney 51 out of 274.0\n",
      "Analyzing mooney 52 out of 274.0\n",
      "Analyzing mooney 53 out of 274.0\n",
      "Analyzing mooney 54 out of 274.0\n",
      "Analyzing mooney 55 out of 274.0\n",
      "Analyzing mooney 56 out of 274.0\n",
      "Analyzing mooney 57 out of 274.0\n",
      "Analyzing mooney 58 out of 274.0\n",
      "Analyzing mooney 59 out of 274.0\n",
      "Analyzing mooney 60 out of 274.0\n",
      "Analyzing mooney 61 out of 274.0\n",
      "Analyzing mooney 62 out of 274.0\n",
      "Analyzing mooney 63 out of 274.0\n",
      "Analyzing mooney 64 out of 274.0\n",
      "Analyzing mooney 65 out of 274.0\n",
      "Analyzing mooney 66 out of 274.0\n",
      "Analyzing mooney 67 out of 274.0\n",
      "Analyzing mooney 68 out of 274.0\n",
      "Analyzing mooney 69 out of 274.0\n",
      "Analyzing mooney 70 out of 274.0\n",
      "Analyzing mooney 71 out of 274.0\n",
      "Analyzing mooney 72 out of 274.0\n",
      "Analyzing mooney 73 out of 274.0\n",
      "Analyzing mooney 74 out of 274.0\n",
      "Analyzing mooney 75 out of 274.0\n",
      "Analyzing mooney 76 out of 274.0\n",
      "Analyzing mooney 77 out of 274.0\n",
      "Analyzing mooney 78 out of 274.0\n",
      "Analyzing mooney 79 out of 274.0\n",
      "Analyzing mooney 80 out of 274.0\n",
      "Analyzing mooney 81 out of 274.0\n",
      "Analyzing mooney 82 out of 274.0\n",
      "Analyzing mooney 83 out of 274.0\n",
      "Analyzing mooney 84 out of 274.0\n",
      "Analyzing mooney 85 out of 274.0\n",
      "Analyzing mooney 86 out of 274.0\n",
      "Analyzing mooney 87 out of 274.0\n",
      "Analyzing mooney 88 out of 274.0\n",
      "Analyzing mooney 89 out of 274.0\n",
      "Analyzing mooney 90 out of 274.0\n",
      "Analyzing mooney 91 out of 274.0\n",
      "Analyzing mooney 92 out of 274.0\n",
      "Analyzing mooney 93 out of 274.0\n",
      "Analyzing mooney 94 out of 274.0\n",
      "Analyzing mooney 95 out of 274.0\n",
      "Analyzing mooney 96 out of 274.0\n",
      "Analyzing mooney 97 out of 274.0\n",
      "Analyzing mooney 98 out of 274.0\n",
      "Analyzing mooney 99 out of 274.0\n",
      "Analyzing mooney 100 out of 274.0\n",
      "Analyzing mooney 101 out of 274.0\n",
      "Analyzing mooney 102 out of 274.0\n",
      "Analyzing mooney 103 out of 274.0\n",
      "Analyzing mooney 104 out of 274.0\n",
      "Analyzing mooney 105 out of 274.0\n",
      "Analyzing mooney 106 out of 274.0\n",
      "Analyzing mooney 107 out of 274.0\n",
      "Analyzing mooney 108 out of 274.0\n",
      "Analyzing mooney 109 out of 274.0\n",
      "Analyzing mooney 110 out of 274.0\n",
      "Analyzing mooney 111 out of 274.0\n",
      "Analyzing mooney 112 out of 274.0\n",
      "Analyzing mooney 113 out of 274.0\n",
      "Analyzing mooney 114 out of 274.0\n",
      "Analyzing mooney 115 out of 274.0\n",
      "Analyzing mooney 116 out of 274.0\n",
      "Analyzing mooney 117 out of 274.0\n",
      "Analyzing mooney 118 out of 274.0\n",
      "Analyzing mooney 119 out of 274.0\n",
      "Analyzing mooney 120 out of 274.0\n",
      "Analyzing mooney 121 out of 274.0\n",
      "Analyzing mooney 122 out of 274.0\n",
      "Analyzing mooney 123 out of 274.0\n",
      "Analyzing mooney 124 out of 274.0\n",
      "Analyzing mooney 125 out of 274.0\n",
      "Analyzing mooney 126 out of 274.0\n",
      "Analyzing mooney 127 out of 274.0\n",
      "Analyzing mooney 128 out of 274.0\n",
      "Analyzing mooney 129 out of 274.0\n",
      "Analyzing mooney 130 out of 274.0\n",
      "Analyzing mooney 131 out of 274.0\n",
      "Analyzing mooney 132 out of 274.0\n",
      "Analyzing mooney 133 out of 274.0\n",
      "Analyzing mooney 134 out of 274.0\n",
      "Analyzing mooney 135 out of 274.0\n",
      "Analyzing mooney 136 out of 274.0\n",
      "Analyzing mooney 137 out of 274.0\n",
      "Analyzing mooney 138 out of 274.0\n",
      "Analyzing mooney 139 out of 274.0\n",
      "Analyzing mooney 140 out of 274.0\n",
      "Analyzing mooney 141 out of 274.0\n",
      "Analyzing mooney 142 out of 274.0\n",
      "Analyzing mooney 143 out of 274.0\n",
      "Analyzing mooney 144 out of 274.0\n",
      "Analyzing mooney 145 out of 274.0\n",
      "Analyzing mooney 146 out of 274.0\n",
      "Analyzing mooney 147 out of 274.0\n",
      "Analyzing mooney 148 out of 274.0\n",
      "Analyzing mooney 149 out of 274.0\n",
      "Analyzing mooney 150 out of 274.0\n",
      "Analyzing mooney 151 out of 274.0\n",
      "Analyzing mooney 152 out of 274.0\n",
      "Analyzing mooney 153 out of 274.0\n",
      "Analyzing mooney 154 out of 274.0\n",
      "Analyzing mooney 155 out of 274.0\n",
      "Analyzing mooney 156 out of 274.0\n",
      "Analyzing mooney 157 out of 274.0\n",
      "Analyzing mooney 158 out of 274.0\n",
      "Analyzing mooney 159 out of 274.0\n",
      "Analyzing mooney 160 out of 274.0\n",
      "Analyzing mooney 161 out of 274.0\n",
      "Analyzing mooney 162 out of 274.0\n",
      "Analyzing mooney 163 out of 274.0\n",
      "Analyzing mooney 164 out of 274.0\n",
      "Analyzing mooney 165 out of 274.0\n",
      "Analyzing mooney 166 out of 274.0\n",
      "Analyzing mooney 167 out of 274.0\n",
      "Analyzing mooney 168 out of 274.0\n",
      "Analyzing mooney 169 out of 274.0\n",
      "Analyzing mooney 170 out of 274.0\n",
      "Analyzing mooney 171 out of 274.0\n",
      "Analyzing mooney 172 out of 274.0\n",
      "Analyzing mooney 173 out of 274.0\n",
      "Analyzing mooney 174 out of 274.0\n",
      "Analyzing mooney 175 out of 274.0\n",
      "Analyzing mooney 176 out of 274.0\n",
      "Analyzing mooney 177 out of 274.0\n",
      "Analyzing mooney 178 out of 274.0\n",
      "Analyzing mooney 179 out of 274.0\n",
      "Analyzing mooney 180 out of 274.0\n",
      "Analyzing mooney 181 out of 274.0\n",
      "Analyzing mooney 182 out of 274.0\n",
      "Analyzing mooney 183 out of 274.0\n",
      "Analyzing mooney 184 out of 274.0\n",
      "Analyzing mooney 185 out of 274.0\n",
      "Analyzing mooney 186 out of 274.0\n",
      "Analyzing mooney 187 out of 274.0\n",
      "Analyzing mooney 188 out of 274.0\n",
      "Analyzing mooney 189 out of 274.0\n",
      "Analyzing mooney 190 out of 274.0\n",
      "Analyzing mooney 191 out of 274.0\n",
      "Analyzing mooney 192 out of 274.0\n",
      "Analyzing mooney 193 out of 274.0\n",
      "Analyzing mooney 194 out of 274.0\n",
      "Analyzing mooney 195 out of 274.0\n",
      "Analyzing mooney 196 out of 274.0\n",
      "Analyzing mooney 197 out of 274.0\n",
      "Analyzing mooney 198 out of 274.0\n",
      "Analyzing mooney 199 out of 274.0\n",
      "Analyzing mooney 200 out of 274.0\n",
      "Analyzing mooney 201 out of 274.0\n",
      "Analyzing mooney 202 out of 274.0\n",
      "Analyzing mooney 203 out of 274.0\n",
      "Analyzing mooney 204 out of 274.0\n",
      "Analyzing mooney 205 out of 274.0\n",
      "Analyzing mooney 206 out of 274.0\n",
      "Analyzing mooney 207 out of 274.0\n",
      "Analyzing mooney 208 out of 274.0\n",
      "Analyzing mooney 209 out of 274.0\n",
      "Analyzing mooney 210 out of 274.0\n",
      "Analyzing mooney 211 out of 274.0\n",
      "Analyzing mooney 212 out of 274.0\n",
      "Analyzing mooney 213 out of 274.0\n",
      "Analyzing mooney 214 out of 274.0\n",
      "Analyzing mooney 215 out of 274.0\n",
      "Analyzing mooney 216 out of 274.0\n",
      "Analyzing mooney 217 out of 274.0\n",
      "Analyzing mooney 218 out of 274.0\n",
      "Analyzing mooney 219 out of 274.0\n",
      "Analyzing mooney 220 out of 274.0\n",
      "Analyzing mooney 221 out of 274.0\n",
      "Analyzing mooney 222 out of 274.0\n",
      "Analyzing mooney 223 out of 274.0\n",
      "Analyzing mooney 224 out of 274.0\n",
      "Analyzing mooney 225 out of 274.0\n",
      "Analyzing mooney 226 out of 274.0\n",
      "Analyzing mooney 227 out of 274.0\n",
      "Analyzing mooney 228 out of 274.0\n",
      "Analyzing mooney 229 out of 274.0\n",
      "Analyzing mooney 230 out of 274.0\n",
      "Analyzing mooney 231 out of 274.0\n",
      "Analyzing mooney 232 out of 274.0\n",
      "Analyzing mooney 233 out of 274.0\n",
      "Analyzing mooney 234 out of 274.0\n",
      "Analyzing mooney 235 out of 274.0\n",
      "Analyzing mooney 236 out of 274.0\n",
      "Analyzing mooney 237 out of 274.0\n",
      "Analyzing mooney 238 out of 274.0\n",
      "Analyzing mooney 239 out of 274.0\n",
      "Analyzing mooney 240 out of 274.0\n",
      "Analyzing mooney 241 out of 274.0\n",
      "Analyzing mooney 242 out of 274.0\n",
      "Analyzing mooney 243 out of 274.0\n",
      "Analyzing mooney 244 out of 274.0\n",
      "Analyzing mooney 245 out of 274.0\n"
     ]
    },
    {
     "name": "stdout",
     "output_type": "stream",
     "text": [
      "Analyzing mooney 246 out of 274.0\n",
      "Analyzing mooney 247 out of 274.0\n",
      "Analyzing mooney 248 out of 274.0\n",
      "Analyzing mooney 249 out of 274.0\n",
      "Analyzing mooney 250 out of 274.0\n",
      "Analyzing mooney 251 out of 274.0\n",
      "Analyzing mooney 252 out of 274.0\n",
      "Analyzing mooney 253 out of 274.0\n",
      "Analyzing mooney 254 out of 274.0\n",
      "Analyzing mooney 255 out of 274.0\n",
      "Analyzing mooney 256 out of 274.0\n",
      "Analyzing mooney 257 out of 274.0\n",
      "Analyzing mooney 258 out of 274.0\n",
      "Analyzing mooney 259 out of 274.0\n",
      "Analyzing mooney 260 out of 274.0\n",
      "Analyzing mooney 261 out of 274.0\n",
      "Analyzing mooney 262 out of 274.0\n",
      "Analyzing mooney 263 out of 274.0\n",
      "Analyzing mooney 264 out of 274.0\n",
      "Analyzing mooney 265 out of 274.0\n",
      "Analyzing mooney 266 out of 274.0\n",
      "Analyzing mooney 267 out of 274.0\n",
      "Analyzing mooney 268 out of 274.0\n",
      "Analyzing mooney 269 out of 274.0\n",
      "Analyzing mooney 270 out of 274.0\n",
      "Analyzing mooney 271 out of 274.0\n",
      "Analyzing mooney 272 out of 274.0\n",
      "Analyzing mooney 273 out of 274.0\n",
      "Analyzing mooney 274 out of 274.0\n"
     ]
    }
   ],
   "source": [
    "row = 0\n",
    "# first loop through mooney, then subjects\n",
    "for mooney in range(int(numImages_nottrap/2)):\n",
    "    print('Analyzing mooney ' + str(mooney+1) + ' out of ' + str(numImages_nottrap/2))\n",
    "    correct_answer = groundtruth.loc[mooney, 'CORRECT']\n",
    "\n",
    "    if correct_answer != 'Not agreed':\n",
    "    \n",
    "        for subject in range(numSubs):\n",
    "#                 print('Analyzing subject ' + str(subject+1) + ' out of ' + str(numSubs))\n",
    "\n",
    "                # extract that mooney data for that subject\n",
    "                mooney_data = data_good[(data_good['IMAGE_NUMBER'] == mooney+1) & (data_good['SUBJECTID'] == subject+1)]\n",
    "                mooney_data_inverted = data_good[(data_good['IMAGE_NUMBER'] == mooney+1 + numImages_nottrap/2) & (data_good['SUBJECTID'] == subject+1)]\n",
    "                mooney_data.reset_index(inplace=True, drop=True)\n",
    "                mooney_data_inverted.reset_index(inplace=True, drop=True)\n",
    "\n",
    "                # get that moooney's correct answer\n",
    "                correct_answer = groundtruth.loc[mooney, 'CORRECT']\n",
    "\n",
    "                perMooney.loc[row, 'SUBJECTID'] = subject + 1\n",
    "                perMooney.loc[row, 'IMAGE_NUMBER'] = mooney + 1\n",
    "\n",
    "\n",
    "                if mooney_data['RAW_ANSWER'][0] == correct_answer:\n",
    "                    perMooney.loc[row, 'UPRIGHT'] = 1\n",
    "                else:\n",
    "                    perMooney.loc[row, 'UPRIGHT'] = 0\n",
    "\n",
    "                if mooney_data_inverted['RAW_ANSWER'][0] == correct_answer:\n",
    "                    perMooney.loc[row, 'INVERTED'] = 1\n",
    "                else:\n",
    "                    perMooney.loc[row, 'INVERTED'] = 0\n",
    "\n",
    "                perMooney.loc[row, 'HOLISTIC'] = perMooney.loc[row, 'UPRIGHT'] - perMooney.loc[row, 'INVERTED']\n",
    "\n",
    "                perMooney.loc[row, 'IMAGE_NUMBER'] = np.unique(mooney_data['IMAGE_NUMBER'])[0]\n",
    "                perMooney.loc[row, 'REAL_NAME'] = realnames.loc[mooney, 'NAME']\n",
    "                \n",
    "#                 if statsFuncs.ismember(realnames.loc[mooney, 'NAME'], papermooneys):\n",
    "                if realnames.loc[mooney, 'NAME'] in papermooneys:\n",
    "                    a = groundtruth_paper[groundtruth_paper['REAL_NAME'] == realnames.loc[mooney, 'NAME']]['PAPER_NUMBER']\n",
    "                    a.reset_index(inplace=True, drop=True)\n",
    "                    perMooney.loc[row, 'PAPER'] = 'yes'\n",
    "                    perMooney.loc[row, 'PAPER_NUMBER'] = a[0]\n",
    "                else:\n",
    "                    perMooney.loc[row, 'PAPER'] = 'no'\n",
    "                    perMooney.loc[row, 'PAPER_NUMBER'] = 0\n",
    "\n",
    "\n",
    "                row = row + 1\n"
   ]
  },
  {
   "cell_type": "markdown",
   "metadata": {
    "ExecuteTime": {
     "end_time": "2019-10-28T20:43:48.515509Z",
     "start_time": "2019-10-28T20:43:48.459750Z"
    }
   },
   "source": []
  },
  {
   "cell_type": "markdown",
   "metadata": {},
   "source": [
    "# Per mooney across subjects "
   ]
  },
  {
   "cell_type": "code",
   "execution_count": 24,
   "metadata": {
    "ExecuteTime": {
     "end_time": "2020-08-18T21:00:28.740890Z",
     "start_time": "2020-08-18T21:00:27.654864Z"
    }
   },
   "outputs": [],
   "source": [
    "perMooneyacrossSubjects = pd.DataFrame(index = range(int(len(perMooney)/numSubs)),\n",
    "                                    columns = ['MOONEYID',\n",
    "                                               'REAL_NAME',\n",
    "                                               'PAPER', 'PAPER_NUMBER', \n",
    "                                               'MEAN_HOLISTIC', 'CI_LOWER_HOLISTIC', 'CI_UPPER_HOLISTIC',\n",
    "                                              'MEAN_UPRIGHT', 'CI_LOWER_UPRIGHT', 'CI_UPPER_UPRIGHT',\n",
    "                                               'MEAN_INVERTED', 'CI_LOWER_INVERTED', 'CI_UPPER_INVERTED'])\n",
    "\n",
    "\n",
    "agreed_mooneys = np.unique(perMooney['IMAGE_NUMBER'])\n",
    "agreed_realnames = np.unique(perMooney['REAL_NAME'])\n",
    "for mooney in range(int(len(perMooney)/numSubs)):\n",
    "    mooney_data = perMooney[perMooney['IMAGE_NUMBER'] == agreed_mooneys[mooney]]\n",
    "\n",
    "    perMooneyacrossSubjects.loc[mooney, 'MOONEYID'] = agreed_mooneys[mooney]\n",
    "    perMooneyacrossSubjects.loc[mooney, 'REAL_NAME'] = agreed_realnames[mooney]\n",
    "   \n",
    "    m, ci_low, ci_up = ms.mean_confidence_interval(np.array(mooney_data['HOLISTIC'], dtype=np.float32))\n",
    "    \n",
    "    perMooneyacrossSubjects.loc[mooney, 'MEAN_HOLISTIC'] = m\n",
    "    perMooneyacrossSubjects.loc[mooney, 'CI_LOWER_HOLISTIC'] = ci_low\n",
    "    perMooneyacrossSubjects.loc[mooney, 'CI_UPPER_HOLISTIC'] = ci_up\n",
    "    \n",
    "    m_upright, ci_low_upright, ci_up_upright = ms.mean_confidence_interval(np.array(mooney_data['UPRIGHT'], dtype=np.float32))\n",
    "    \n",
    "    perMooneyacrossSubjects.loc[mooney, 'MEAN_UPRIGHT'] = m_upright\n",
    "    perMooneyacrossSubjects.loc[mooney, 'CI_LOWER_UPRIGHT'] = ci_low_upright\n",
    "    perMooneyacrossSubjects.loc[mooney, 'CI_UPPER_UPRIGHT'] = ci_up_upright\n",
    "\n",
    "    m_inverted, ci_low_inverted, ci_up_inverted = ms.mean_confidence_interval(np.array(mooney_data['INVERTED'], dtype=np.float32))\n",
    "    \n",
    "    perMooneyacrossSubjects.loc[mooney, 'MEAN_INVERTED'] = m_inverted\n",
    "    perMooneyacrossSubjects.loc[mooney, 'CI_LOWER_INVERTED'] = ci_low_inverted\n",
    "    perMooneyacrossSubjects.loc[mooney, 'CI_UPPER_INVERTED'] = ci_up_inverted\n",
    "    \n",
    "    perMooneyacrossSubjects.loc[mooney, 'PAPER'] = np.unique(mooney_data['PAPER'])[0]\n",
    "    if perMooneyacrossSubjects.loc[mooney, 'PAPER'] == 'yes':\n",
    "        perMooneyacrossSubjects.loc[mooney, 'PAPER_NUMBER'] = np.unique(mooney_data['PAPER_NUMBER'])[0]\n"
   ]
  },
  {
   "cell_type": "code",
   "execution_count": 26,
   "metadata": {
    "ExecuteTime": {
     "end_time": "2020-08-18T21:01:10.174944Z",
     "start_time": "2020-08-18T21:01:09.573776Z"
    }
   },
   "outputs": [
    {
     "data": {
      "text/plain": [
       "<matplotlib.collections.PolyCollection at 0x7fd4587f94d0>"
      ]
     },
     "execution_count": 26,
     "metadata": {},
     "output_type": "execute_result"
    },
    {
     "data": {
      "image/png": "[encoded data removed]",
      "text/plain": [
       "<Figure size 1296x288 with 2 Axes>"
      ]
     },
     "metadata": {
      "needs_background": "light"
     },
     "output_type": "display_data"
    }
   ],
   "source": [
    "\n",
    "fig, axs = plt.subplots(1, 2, figsize=(18,4))\n",
    "plt.subplots_adjust(left=0.125, right=0.9, bottom=0.1, top=0.9, wspace=0.3, hspace=0.2)\n",
    "x = range(len(perMooneyacrossSubjects))\n",
    "axs[0].plot(perMooneyacrossSubjects.index, perMooneyacrossSubjects['MEAN_HOLISTIC'], alpha = 1, color = 'gray', label='HOLISTIC INDEX')\n",
    "axs[0].fill_between(perMooneyacrossSubjects.index, \n",
    "                np.array(perMooneyacrossSubjects['CI_LOWER_HOLISTIC'], dtype=np.float32), np.array(perMooneyacrossSubjects['CI_UPPER_HOLISTIC'], dtype=np.float32),\n",
    "                facecolor='lightgrey', alpha=0.6)\n",
    "\n",
    "xlabelPlot = 'MooneyID'\n",
    "ylabelPlot = 'Holistic Index'\n",
    "# axs[0] = plotFuncs.plotStyleBegin(axs[0], 18, 14, '',  xlabelPlot, ylabelPlot)\n",
    "\n",
    "axs[1].plot(perMooneyacrossSubjects.index, perMooneyacrossSubjects['MEAN_UPRIGHT'], alpha = 1, color = 'maroon', label='Upright')\n",
    "axs[1].fill_between(perMooneyacrossSubjects.index, \n",
    "                np.array(perMooneyacrossSubjects['CI_LOWER_UPRIGHT'], dtype=np.float32),\n",
    "                    np.array(perMooneyacrossSubjects['CI_UPPER_UPRIGHT'], dtype=np.float32),\n",
    "                facecolor='darksalmon', alpha=0.6)\n",
    "\n",
    "axs[1].plot(perMooneyacrossSubjects.index, perMooneyacrossSubjects['MEAN_INVERTED'], alpha = 1, color = 'darkgreen', label='Inverted')\n",
    "axs[1].fill_between(perMooneyacrossSubjects.index, \n",
    "                np.array(perMooneyacrossSubjects['CI_LOWER_INVERTED'], dtype=np.float32),\n",
    "                    np.array(perMooneyacrossSubjects['CI_LOWER_INVERTED'], dtype=np.float32),\n",
    "                facecolor='darkseagreen', alpha=0.6)\n"
   ]
  },
  {
   "cell_type": "code",
   "execution_count": 27,
   "metadata": {
    "ExecuteTime": {
     "end_time": "2020-08-18T21:01:14.037045Z",
     "start_time": "2020-08-18T21:01:13.969986Z"
    }
   },
   "outputs": [],
   "source": [
    "perMooneyacrossSubjects.to_csv('perMooney_gender_complete.csv')\n",
    "perMooneyacrossSubjects[perMooneyacrossSubjects['PAPER'] == 'yes'].to_csv('paper_complete_holistic_gender.csv')"
   ]
  },
  {
   "cell_type": "code",
   "execution_count": 29,
   "metadata": {
    "ExecuteTime": {
     "end_time": "2020-08-18T21:01:22.193056Z",
     "start_time": "2020-08-18T21:01:21.624477Z"
    }
   },
   "outputs": [
    {
     "data": {
      "text/plain": [
       "<matplotlib.collections.PolyCollection at 0x7fd459722190>"
      ]
     },
     "execution_count": 29,
     "metadata": {},
     "output_type": "execute_result"
    },
    {
     "data": {
      "image/png": "[encoded data removed]",
      "text/plain": [
       "<Figure size 1296x288 with 2 Axes>"
      ]
     },
     "metadata": {
      "needs_background": "light"
     },
     "output_type": "display_data"
    }
   ],
   "source": [
    "paper_yes = perMooneyacrossSubjects[perMooneyacrossSubjects['PAPER'] == 'yes']\n",
    "fig, axs = plt.subplots(1, 2, figsize=(18,4))\n",
    "plt.subplots_adjust(left=0.125, right=0.9, bottom=0.1, top=0.9, wspace=0.3, hspace=0.2)\n",
    "x = range(len(paper_yes))\n",
    "axs[0].plot(paper_yes.index, paper_yes['MEAN_HOLISTIC'], alpha = 1, color = 'gray', label='HOLISTIC INDEX')\n",
    "axs[0].fill_between(paper_yes.index, \n",
    "                np.array(paper_yes['CI_LOWER_HOLISTIC'], dtype=np.float32), np.array(paper_yes['CI_UPPER_HOLISTIC'], dtype=np.float32),\n",
    "                facecolor='lightgrey', alpha=0.6)\n",
    "\n",
    "xlabelPlot = 'MooneyID'\n",
    "ylabelPlot = 'Holistic Index'\n",
    "# axs[0] = plotFuncs.plotStyleBegin(axs[0], 18, 14, '',  xlabelPlot, ylabelPlot)\n",
    "\n",
    "axs[1].plot(paper_yes.index, paper_yes['MEAN_UPRIGHT'], alpha = 1, color = 'maroon', label='Upright')\n",
    "axs[1].fill_between(paper_yes.index, \n",
    "                np.array(paper_yes['CI_LOWER_UPRIGHT'], dtype=np.float32),\n",
    "                    np.array(paper_yes['CI_UPPER_UPRIGHT'], dtype=np.float32),\n",
    "                facecolor='darksalmon', alpha=0.6)\n",
    "\n",
    "axs[1].plot(paper_yes.index, paper_yes['MEAN_INVERTED'], alpha = 1, color = 'darkgreen', label='Inverted')\n",
    "axs[1].fill_between(paper_yes.index, \n",
    "                np.array(paper_yes['CI_LOWER_INVERTED'], dtype=np.float32),\n",
    "                    np.array(paper_yes['CI_UPPER_INVERTED'], dtype=np.float32),\n",
    "                facecolor='darkseagreen', alpha=0.6)\n"
   ]
  },
  {
   "cell_type": "markdown",
   "metadata": {},
   "source": [
    "# Split half "
   ]
  },
  {
   "cell_type": "code",
   "execution_count": 30,
   "metadata": {
    "ExecuteTime": {
     "end_time": "2020-08-18T21:01:54.523199Z",
     "start_time": "2020-08-18T21:01:54.473387Z"
    }
   },
   "outputs": [],
   "source": [
    "first_half = perMooney[perMooney['SUBJECTID'] < 10]\n",
    "second_half = perMooney[perMooney['SUBJECTID'] >= 10]"
   ]
  },
  {
   "cell_type": "code",
   "execution_count": 31,
   "metadata": {
    "ExecuteTime": {
     "end_time": "2020-08-18T21:01:54.613705Z",
     "start_time": "2020-08-18T21:01:54.532666Z"
    }
   },
   "outputs": [],
   "source": [
    "perMooney_firsthalf = pd.DataFrame(index=range(79),\n",
    "                          columns = ['MOONEYID', 'REP1_UPRIGHT', 'CI_LOWER_UPRIGHT', 'CI_UPPER_UPRIGHT',\n",
    "                                     'REP1_INVERTED', 'CI_LOWER_INVERTED', 'CI_UPPER_INVERTED',\n",
    "                                     'REP1_HOLISTIC', 'CI_LOWER_HOLISTIC', 'CI_UPPER_HOLISTIC'])\n",
    "\n",
    "perMooney_secondhalf = pd.DataFrame(index=range(79),\n",
    "                          columns = ['MOONEYID', 'REP1_UPRIGHT', 'CI_LOWER_UPRIGHT', 'CI_UPPER_UPRIGHT',\n",
    "                                     'REP1_INVERTED', 'CI_LOWER_INVERTED', 'CI_UPPER_INVERTED',\n",
    "                                     'REP1_HOLISTIC', 'CI_LOWER_HOLISTIC', 'CI_UPPER_HOLISTIC'])\n",
    "\n"
   ]
  },
  {
   "cell_type": "code",
   "execution_count": 32,
   "metadata": {
    "ExecuteTime": {
     "end_time": "2020-08-18T21:01:56.175776Z",
     "start_time": "2020-08-18T21:01:54.618925Z"
    }
   },
   "outputs": [],
   "source": [
    "for mooney in range(int(len(perMooney)/numSubs)):\n",
    "    mooney_data = first_half[first_half['IMAGE_NUMBER'] == agreed_mooneys[mooney]]\n",
    "    \n",
    "    \n",
    "    perMooney_firsthalf.loc[mooney, 'MOONEYID'] = agreed_mooneys[mooney]\n",
    "    \n",
    "    m, ci_low, ci_up = ms.mean_confidence_interval(np.array(mooney_data['HOLISTIC'], dtype=np.float32))\n",
    "    \n",
    "    perMooney_firsthalf.loc[mooney, 'MEAN_HOLISTIC'] = m\n",
    "    perMooney_firsthalf.loc[mooney, 'CI_LOWER_HOLISTIC'] = ci_low\n",
    "    perMooney_firsthalf.loc[mooney, 'CI_UPPER_HOLISTIC'] = ci_up\n",
    "    \n",
    "    m_upright, ci_low_upright, ci_up_upright = ms.mean_confidence_interval(np.array(mooney_data['UPRIGHT'], dtype=np.float32))\n",
    "    \n",
    "    perMooney_firsthalf.loc[mooney, 'MEAN_UPRIGHT'] = m_upright\n",
    "    perMooney_firsthalf.loc[mooney, 'CI_LOWER_UPRIGHT'] = ci_low_upright\n",
    "    perMooney_firsthalf.loc[mooney, 'CI_UPPER_UPRIGHT'] = ci_up_upright\n",
    "\n",
    "    m_inverted, ci_low_inverted, ci_up_inverted = ms.mean_confidence_interval(np.array(mooney_data['INVERTED'], dtype=np.float32))\n",
    "    \n",
    "    perMooney_firsthalf.loc[mooney, 'MEAN_INVERTED'] = m_inverted\n",
    "    perMooney_firsthalf.loc[mooney, 'CI_LOWER_INVERTED'] = ci_low_inverted\n",
    "    perMooney_firsthalf.loc[mooney, 'CI_UPPER_INVERTED'] = ci_up_inverted"
   ]
  },
  {
   "cell_type": "code",
   "execution_count": 33,
   "metadata": {
    "ExecuteTime": {
     "end_time": "2020-08-18T21:01:57.469227Z",
     "start_time": "2020-08-18T21:01:56.178491Z"
    }
   },
   "outputs": [],
   "source": [
    "for mooney in range(int(len(perMooney)/numSubs)):\n",
    "    mooney_data = second_half[second_half['IMAGE_NUMBER'] == agreed_mooneys[mooney]]\n",
    "    \n",
    "    \n",
    "    perMooney_secondhalf.loc[mooney, 'MOONEYID'] = agreed_mooneys[mooney]\n",
    "    \n",
    "    m, ci_low, ci_up = ms.mean_confidence_interval(np.array(mooney_data['HOLISTIC'], dtype=np.float32))\n",
    "    \n",
    "    perMooney_secondhalf.loc[mooney, 'MEAN_HOLISTIC'] = m\n",
    "    perMooney_secondhalf.loc[mooney, 'CI_LOWER_HOLISTIC'] = ci_low\n",
    "    perMooney_secondhalf.loc[mooney, 'CI_UPPER_HOLISTIC'] = ci_up\n",
    "    \n",
    "    m_upright, ci_low_upright, ci_up_upright = ms.mean_confidence_interval(np.array(mooney_data['UPRIGHT'], dtype=np.float32))\n",
    "    \n",
    "    perMooney_secondhalf.loc[mooney, 'MEAN_UPRIGHT'] = m_upright\n",
    "    perMooney_secondhalf.loc[mooney, 'CI_LOWER_UPRIGHT'] = ci_low_upright\n",
    "    perMooney_secondhalf.loc[mooney, 'CI_UPPER_UPRIGHT'] = ci_up_upright\n",
    "\n",
    "    m_inverted, ci_low_inverted, ci_up_inverted = ms.mean_confidence_interval(np.array(mooney_data['INVERTED'], dtype=np.float32))\n",
    "    \n",
    "    perMooney_secondhalf.loc[mooney, 'MEAN_INVERTED'] = m_inverted\n",
    "    perMooney_secondhalf.loc[mooney, 'CI_LOWER_INVERTED'] = ci_low_inverted\n",
    "    perMooney_secondhalf.loc[mooney, 'CI_UPPER_INVERTED'] = ci_up_inverted"
   ]
  },
  {
   "cell_type": "code",
   "execution_count": 34,
   "metadata": {
    "ExecuteTime": {
     "end_time": "2020-08-18T21:01:57.536113Z",
     "start_time": "2020-08-18T21:01:57.481167Z"
    }
   },
   "outputs": [
    {
     "name": "stdout",
     "output_type": "stream",
     "text": [
      "Pearsons correlation: 0.478\n"
     ]
    }
   ],
   "source": [
    "corr, _ = stats.pearsonr(perMooney_firsthalf['MEAN_HOLISTIC'], perMooney_secondhalf['MEAN_HOLISTIC'])\n",
    "print('Pearsons correlation: %.3f' % corr)"
   ]
  },
  {
   "cell_type": "code",
   "execution_count": null,
   "metadata": {},
   "outputs": [],
   "source": []
  },
  {
   "cell_type": "markdown",
   "metadata": {},
   "source": [
    "# Select higher and lower holistic"
   ]
  },
  {
   "cell_type": "code",
   "execution_count": 35,
   "metadata": {
    "ExecuteTime": {
     "end_time": "2020-08-18T21:01:57.708469Z",
     "start_time": "2020-08-18T21:01:57.542273Z"
    }
   },
   "outputs": [],
   "source": [
    "ordered_mooneys = perMooneyacrossSubjects.sort_values(by='MEAN_HOLISTIC')\n",
    "\n",
    "# drop the ones with negative holistic\n",
    "for i in range(len(ordered_mooneys)):\n",
    "    if ordered_mooneys.loc[i, 'MEAN_HOLISTIC'] < 0:\n",
    "        ordered_mooneys.drop(i, inplace=True)\n"
   ]
  },
  {
   "cell_type": "markdown",
   "metadata": {
    "ExecuteTime": {
     "end_time": "2019-10-29T18:51:22.459028Z",
     "start_time": "2019-10-29T18:51:22.415735Z"
    }
   },
   "source": [
    "select 20 higher and 20 lower, that means the 20 first and the 20 last\n"
   ]
  },
  {
   "cell_type": "code",
   "execution_count": 36,
   "metadata": {
    "ExecuteTime": {
     "end_time": "2020-08-18T21:01:57.768709Z",
     "start_time": "2020-08-18T21:01:57.713883Z"
    }
   },
   "outputs": [],
   "source": [
    "low_holistic = ordered_mooneys.iloc[range(20), :]"
   ]
  },
  {
   "cell_type": "code",
   "execution_count": 37,
   "metadata": {
    "ExecuteTime": {
     "end_time": "2020-08-18T21:01:57.833242Z",
     "start_time": "2020-08-18T21:01:57.780473Z"
    }
   },
   "outputs": [],
   "source": [
    "high_holistic = ordered_mooneys[-20:]"
   ]
  },
  {
   "cell_type": "code",
   "execution_count": 38,
   "metadata": {
    "ExecuteTime": {
     "end_time": "2020-08-18T21:01:57.937225Z",
     "start_time": "2020-08-18T21:01:57.850600Z"
    }
   },
   "outputs": [],
   "source": [
    "low_holistic.to_csv('select_low_holistic.csv')\n",
    "high_holistic.to_csv('select_high_holistic.csv')\n"
   ]
  },
  {
   "cell_type": "code",
   "execution_count": 39,
   "metadata": {
    "ExecuteTime": {
     "end_time": "2020-08-18T21:01:58.028552Z",
     "start_time": "2020-08-18T21:01:57.942298Z"
    },
    "scrolled": true
   },
   "outputs": [
    {
     "data": {
      "text/html": [
       "<div>\n",
       "<style scoped>\n",
       "    .dataframe tbody tr th:only-of-type {\n",
       "        vertical-align: middle;\n",
       "    }\n",
       "\n",
       "    .dataframe tbody tr th {\n",
       "        vertical-align: top;\n",
       "    }\n",
       "\n",
       "    .dataframe thead th {\n",
       "        text-align: right;\n",
       "    }\n",
       "</style>\n",
       "<table border=\"1\" class=\"dataframe\">\n",
       "  <thead>\n",
       "    <tr style=\"text-align: right;\">\n",
       "      <th></th>\n",
       "      <th>MOONEYID</th>\n",
       "      <th>REAL_NAME</th>\n",
       "      <th>PAPER</th>\n",
       "      <th>PAPER_NUMBER</th>\n",
       "      <th>MEAN_HOLISTIC</th>\n",
       "      <th>CI_LOWER_HOLISTIC</th>\n",
       "      <th>CI_UPPER_HOLISTIC</th>\n",
       "      <th>MEAN_UPRIGHT</th>\n",
       "      <th>CI_LOWER_UPRIGHT</th>\n",
       "      <th>CI_UPPER_UPRIGHT</th>\n",
       "      <th>MEAN_INVERTED</th>\n",
       "      <th>CI_LOWER_INVERTED</th>\n",
       "      <th>CI_UPPER_INVERTED</th>\n",
       "    </tr>\n",
       "  </thead>\n",
       "  <tbody>\n",
       "    <tr>\n",
       "      <th>2</th>\n",
       "      <td>4</td>\n",
       "      <td>U0006.bmp</td>\n",
       "      <td>yes</td>\n",
       "      <td>2</td>\n",
       "      <td>0.3</td>\n",
       "      <td>0.0799573</td>\n",
       "      <td>0.520043</td>\n",
       "      <td>0.85</td>\n",
       "      <td>0.678544</td>\n",
       "      <td>1.02146</td>\n",
       "      <td>0.55</td>\n",
       "      <td>0.311117</td>\n",
       "      <td>0.788883</td>\n",
       "    </tr>\n",
       "    <tr>\n",
       "      <th>70</th>\n",
       "      <td>95</td>\n",
       "      <td>U0155.bmp</td>\n",
       "      <td>no</td>\n",
       "      <td>NaN</td>\n",
       "      <td>0.3</td>\n",
       "      <td>0.0799573</td>\n",
       "      <td>0.520043</td>\n",
       "      <td>1</td>\n",
       "      <td>1</td>\n",
       "      <td>1</td>\n",
       "      <td>0.7</td>\n",
       "      <td>0.479957</td>\n",
       "      <td>0.920043</td>\n",
       "    </tr>\n",
       "    <tr>\n",
       "      <th>35</th>\n",
       "      <td>49</td>\n",
       "      <td>U0076.bmp</td>\n",
       "      <td>no</td>\n",
       "      <td>NaN</td>\n",
       "      <td>0.3</td>\n",
       "      <td>0.0799573</td>\n",
       "      <td>0.520043</td>\n",
       "      <td>1</td>\n",
       "      <td>1</td>\n",
       "      <td>1</td>\n",
       "      <td>0.7</td>\n",
       "      <td>0.479957</td>\n",
       "      <td>0.920043</td>\n",
       "    </tr>\n",
       "    <tr>\n",
       "      <th>163</th>\n",
       "      <td>213</td>\n",
       "      <td>U0362.bmp</td>\n",
       "      <td>no</td>\n",
       "      <td>NaN</td>\n",
       "      <td>0.3</td>\n",
       "      <td>0.0799573</td>\n",
       "      <td>0.520043</td>\n",
       "      <td>1</td>\n",
       "      <td>1</td>\n",
       "      <td>1</td>\n",
       "      <td>0.7</td>\n",
       "      <td>0.479957</td>\n",
       "      <td>0.920043</td>\n",
       "    </tr>\n",
       "    <tr>\n",
       "      <th>101</th>\n",
       "      <td>139</td>\n",
       "      <td>U0228.bmp</td>\n",
       "      <td>yes</td>\n",
       "      <td>57</td>\n",
       "      <td>0.3</td>\n",
       "      <td>0.0799573</td>\n",
       "      <td>0.520043</td>\n",
       "      <td>1</td>\n",
       "      <td>1</td>\n",
       "      <td>1</td>\n",
       "      <td>0.7</td>\n",
       "      <td>0.479957</td>\n",
       "      <td>0.920043</td>\n",
       "    </tr>\n",
       "    <tr>\n",
       "      <th>74</th>\n",
       "      <td>99</td>\n",
       "      <td>U0159.bmp</td>\n",
       "      <td>no</td>\n",
       "      <td>NaN</td>\n",
       "      <td>0.3</td>\n",
       "      <td>0.0799573</td>\n",
       "      <td>0.520043</td>\n",
       "      <td>1</td>\n",
       "      <td>1</td>\n",
       "      <td>1</td>\n",
       "      <td>0.7</td>\n",
       "      <td>0.479957</td>\n",
       "      <td>0.920043</td>\n",
       "    </tr>\n",
       "    <tr>\n",
       "      <th>156</th>\n",
       "      <td>206</td>\n",
       "      <td>U0346.bmp</td>\n",
       "      <td>no</td>\n",
       "      <td>NaN</td>\n",
       "      <td>0.3</td>\n",
       "      <td>-0.00746049</td>\n",
       "      <td>0.607461</td>\n",
       "      <td>0.85</td>\n",
       "      <td>0.678544</td>\n",
       "      <td>1.02146</td>\n",
       "      <td>0.55</td>\n",
       "      <td>0.311117</td>\n",
       "      <td>0.788883</td>\n",
       "    </tr>\n",
       "    <tr>\n",
       "      <th>161</th>\n",
       "      <td>211</td>\n",
       "      <td>U0359.bmp</td>\n",
       "      <td>no</td>\n",
       "      <td>NaN</td>\n",
       "      <td>0.35</td>\n",
       "      <td>0.120972</td>\n",
       "      <td>0.579028</td>\n",
       "      <td>0.9</td>\n",
       "      <td>0.755948</td>\n",
       "      <td>1.04405</td>\n",
       "      <td>0.55</td>\n",
       "      <td>0.311117</td>\n",
       "      <td>0.788883</td>\n",
       "    </tr>\n",
       "    <tr>\n",
       "      <th>139</th>\n",
       "      <td>186</td>\n",
       "      <td>U0312.bmp</td>\n",
       "      <td>yes</td>\n",
       "      <td>68</td>\n",
       "      <td>0.35</td>\n",
       "      <td>0.120972</td>\n",
       "      <td>0.579028</td>\n",
       "      <td>0.85</td>\n",
       "      <td>0.678544</td>\n",
       "      <td>1.02146</td>\n",
       "      <td>0.5</td>\n",
       "      <td>0.259914</td>\n",
       "      <td>0.740086</td>\n",
       "    </tr>\n",
       "    <tr>\n",
       "      <th>10</th>\n",
       "      <td>14</td>\n",
       "      <td>U0020.bmp</td>\n",
       "      <td>no</td>\n",
       "      <td>NaN</td>\n",
       "      <td>0.35</td>\n",
       "      <td>0.0752086</td>\n",
       "      <td>0.624791</td>\n",
       "      <td>0.95</td>\n",
       "      <td>0.845349</td>\n",
       "      <td>1.05465</td>\n",
       "      <td>0.6</td>\n",
       "      <td>0.364764</td>\n",
       "      <td>0.835236</td>\n",
       "    </tr>\n",
       "    <tr>\n",
       "      <th>45</th>\n",
       "      <td>64</td>\n",
       "      <td>U0106.bmp</td>\n",
       "      <td>no</td>\n",
       "      <td>NaN</td>\n",
       "      <td>0.35</td>\n",
       "      <td>0.120972</td>\n",
       "      <td>0.579028</td>\n",
       "      <td>1</td>\n",
       "      <td>1</td>\n",
       "      <td>1</td>\n",
       "      <td>0.65</td>\n",
       "      <td>0.420972</td>\n",
       "      <td>0.879028</td>\n",
       "    </tr>\n",
       "    <tr>\n",
       "      <th>28</th>\n",
       "      <td>40</td>\n",
       "      <td>U0061.bmp</td>\n",
       "      <td>yes</td>\n",
       "      <td>20</td>\n",
       "      <td>0.4</td>\n",
       "      <td>0.164764</td>\n",
       "      <td>0.635236</td>\n",
       "      <td>1</td>\n",
       "      <td>1</td>\n",
       "      <td>1</td>\n",
       "      <td>0.6</td>\n",
       "      <td>0.364764</td>\n",
       "      <td>0.835236</td>\n",
       "    </tr>\n",
       "    <tr>\n",
       "      <th>6</th>\n",
       "      <td>9</td>\n",
       "      <td>U0014.bmp</td>\n",
       "      <td>yes</td>\n",
       "      <td>7</td>\n",
       "      <td>0.4</td>\n",
       "      <td>0.120014</td>\n",
       "      <td>0.679986</td>\n",
       "      <td>0.95</td>\n",
       "      <td>0.845349</td>\n",
       "      <td>1.05465</td>\n",
       "      <td>0.55</td>\n",
       "      <td>0.311117</td>\n",
       "      <td>0.788883</td>\n",
       "    </tr>\n",
       "    <tr>\n",
       "      <th>82</th>\n",
       "      <td>110</td>\n",
       "      <td>U0181.bmp</td>\n",
       "      <td>no</td>\n",
       "      <td>NaN</td>\n",
       "      <td>0.4</td>\n",
       "      <td>0.164764</td>\n",
       "      <td>0.635236</td>\n",
       "      <td>1</td>\n",
       "      <td>1</td>\n",
       "      <td>1</td>\n",
       "      <td>0.6</td>\n",
       "      <td>0.364764</td>\n",
       "      <td>0.835236</td>\n",
       "    </tr>\n",
       "    <tr>\n",
       "      <th>76</th>\n",
       "      <td>101</td>\n",
       "      <td>U0164.bmp</td>\n",
       "      <td>no</td>\n",
       "      <td>NaN</td>\n",
       "      <td>0.45</td>\n",
       "      <td>0.166942</td>\n",
       "      <td>0.733058</td>\n",
       "      <td>0.95</td>\n",
       "      <td>0.845349</td>\n",
       "      <td>1.05465</td>\n",
       "      <td>0.5</td>\n",
       "      <td>0.259914</td>\n",
       "      <td>0.740086</td>\n",
       "    </tr>\n",
       "    <tr>\n",
       "      <th>46</th>\n",
       "      <td>65</td>\n",
       "      <td>U0107.bmp</td>\n",
       "      <td>yes</td>\n",
       "      <td>31</td>\n",
       "      <td>0.5</td>\n",
       "      <td>0.215926</td>\n",
       "      <td>0.784074</td>\n",
       "      <td>0.9</td>\n",
       "      <td>0.755948</td>\n",
       "      <td>1.04405</td>\n",
       "      <td>0.4</td>\n",
       "      <td>0.164764</td>\n",
       "      <td>0.635236</td>\n",
       "    </tr>\n",
       "    <tr>\n",
       "      <th>81</th>\n",
       "      <td>108</td>\n",
       "      <td>U0178.bmp</td>\n",
       "      <td>yes</td>\n",
       "      <td>44</td>\n",
       "      <td>0.5</td>\n",
       "      <td>0.259914</td>\n",
       "      <td>0.740086</td>\n",
       "      <td>1</td>\n",
       "      <td>1</td>\n",
       "      <td>1</td>\n",
       "      <td>0.5</td>\n",
       "      <td>0.259914</td>\n",
       "      <td>0.740086</td>\n",
       "    </tr>\n",
       "    <tr>\n",
       "      <th>153</th>\n",
       "      <td>202</td>\n",
       "      <td>U0335.bmp</td>\n",
       "      <td>no</td>\n",
       "      <td>NaN</td>\n",
       "      <td>0.6</td>\n",
       "      <td>0.364764</td>\n",
       "      <td>0.835236</td>\n",
       "      <td>1</td>\n",
       "      <td>1</td>\n",
       "      <td>1</td>\n",
       "      <td>0.4</td>\n",
       "      <td>0.164764</td>\n",
       "      <td>0.635236</td>\n",
       "    </tr>\n",
       "    <tr>\n",
       "      <th>61</th>\n",
       "      <td>83</td>\n",
       "      <td>U0137.bmp</td>\n",
       "      <td>no</td>\n",
       "      <td>NaN</td>\n",
       "      <td>0.65</td>\n",
       "      <td>0.420972</td>\n",
       "      <td>0.879028</td>\n",
       "      <td>0.95</td>\n",
       "      <td>0.845349</td>\n",
       "      <td>1.05465</td>\n",
       "      <td>0.3</td>\n",
       "      <td>0.0799573</td>\n",
       "      <td>0.520043</td>\n",
       "    </tr>\n",
       "    <tr>\n",
       "      <th>162</th>\n",
       "      <td>212</td>\n",
       "      <td>U0361.bmp</td>\n",
       "      <td>no</td>\n",
       "      <td>NaN</td>\n",
       "      <td>0.75</td>\n",
       "      <td>0.492536</td>\n",
       "      <td>1.00746</td>\n",
       "      <td>0.95</td>\n",
       "      <td>0.845349</td>\n",
       "      <td>1.05465</td>\n",
       "      <td>0.2</td>\n",
       "      <td>0.00793093</td>\n",
       "      <td>0.392069</td>\n",
       "    </tr>\n",
       "  </tbody>\n",
       "</table>\n",
       "</div>"
      ],
      "text/plain": [
       "    MOONEYID  REAL_NAME PAPER PAPER_NUMBER MEAN_HOLISTIC CI_LOWER_HOLISTIC  \\\n",
       "2          4  U0006.bmp   yes            2           0.3         0.0799573   \n",
       "70        95  U0155.bmp    no          NaN           0.3         0.0799573   \n",
       "35        49  U0076.bmp    no          NaN           0.3         0.0799573   \n",
       "163      213  U0362.bmp    no          NaN           0.3         0.0799573   \n",
       "101      139  U0228.bmp   yes           57           0.3         0.0799573   \n",
       "74        99  U0159.bmp    no          NaN           0.3         0.0799573   \n",
       "156      206  U0346.bmp    no          NaN           0.3       -0.00746049   \n",
       "161      211  U0359.bmp    no          NaN          0.35          0.120972   \n",
       "139      186  U0312.bmp   yes           68          0.35          0.120972   \n",
       "10        14  U0020.bmp    no          NaN          0.35         0.0752086   \n",
       "45        64  U0106.bmp    no          NaN          0.35          0.120972   \n",
       "28        40  U0061.bmp   yes           20           0.4          0.164764   \n",
       "6          9  U0014.bmp   yes            7           0.4          0.120014   \n",
       "82       110  U0181.bmp    no          NaN           0.4          0.164764   \n",
       "76       101  U0164.bmp    no          NaN          0.45          0.166942   \n",
       "46        65  U0107.bmp   yes           31           0.5          0.215926   \n",
       "81       108  U0178.bmp   yes           44           0.5          0.259914   \n",
       "153      202  U0335.bmp    no          NaN           0.6          0.364764   \n",
       "61        83  U0137.bmp    no          NaN          0.65          0.420972   \n",
       "162      212  U0361.bmp    no          NaN          0.75          0.492536   \n",
       "\n",
       "    CI_UPPER_HOLISTIC MEAN_UPRIGHT CI_LOWER_UPRIGHT CI_UPPER_UPRIGHT  \\\n",
       "2            0.520043         0.85         0.678544          1.02146   \n",
       "70           0.520043            1                1                1   \n",
       "35           0.520043            1                1                1   \n",
       "163          0.520043            1                1                1   \n",
       "101          0.520043            1                1                1   \n",
       "74           0.520043            1                1                1   \n",
       "156          0.607461         0.85         0.678544          1.02146   \n",
       "161          0.579028          0.9         0.755948          1.04405   \n",
       "139          0.579028         0.85         0.678544          1.02146   \n",
       "10           0.624791         0.95         0.845349          1.05465   \n",
       "45           0.579028            1                1                1   \n",
       "28           0.635236            1                1                1   \n",
       "6            0.679986         0.95         0.845349          1.05465   \n",
       "82           0.635236            1                1                1   \n",
       "76           0.733058         0.95         0.845349          1.05465   \n",
       "46           0.784074          0.9         0.755948          1.04405   \n",
       "81           0.740086            1                1                1   \n",
       "153          0.835236            1                1                1   \n",
       "61           0.879028         0.95         0.845349          1.05465   \n",
       "162           1.00746         0.95         0.845349          1.05465   \n",
       "\n",
       "    MEAN_INVERTED CI_LOWER_INVERTED CI_UPPER_INVERTED  \n",
       "2            0.55          0.311117          0.788883  \n",
       "70            0.7          0.479957          0.920043  \n",
       "35            0.7          0.479957          0.920043  \n",
       "163           0.7          0.479957          0.920043  \n",
       "101           0.7          0.479957          0.920043  \n",
       "74            0.7          0.479957          0.920043  \n",
       "156          0.55          0.311117          0.788883  \n",
       "161          0.55          0.311117          0.788883  \n",
       "139           0.5          0.259914          0.740086  \n",
       "10            0.6          0.364764          0.835236  \n",
       "45           0.65          0.420972          0.879028  \n",
       "28            0.6          0.364764          0.835236  \n",
       "6            0.55          0.311117          0.788883  \n",
       "82            0.6          0.364764          0.835236  \n",
       "76            0.5          0.259914          0.740086  \n",
       "46            0.4          0.164764          0.635236  \n",
       "81            0.5          0.259914          0.740086  \n",
       "153           0.4          0.164764          0.635236  \n",
       "61            0.3         0.0799573          0.520043  \n",
       "162           0.2        0.00793093          0.392069  "
      ]
     },
     "execution_count": 39,
     "metadata": {},
     "output_type": "execute_result"
    }
   ],
   "source": [
    "high_holistic"
   ]
  },
  {
   "cell_type": "code",
   "execution_count": 40,
   "metadata": {
    "ExecuteTime": {
     "end_time": "2020-08-18T21:01:58.133567Z",
     "start_time": "2020-08-18T21:01:58.039279Z"
    }
   },
   "outputs": [],
   "source": [
    "perMooneyacrossSubjects.sort_values(by=['MEAN_HOLISTIC'], inplace=True)\n",
    "\n",
    "perMooneyacrossSubjects_ordered = perMooneyacrossSubjects.reset_index()"
   ]
  },
  {
   "cell_type": "code",
   "execution_count": 42,
   "metadata": {
    "ExecuteTime": {
     "end_time": "2020-08-18T21:02:47.401897Z",
     "start_time": "2020-08-18T21:02:46.986760Z"
    }
   },
   "outputs": [
    {
     "data": {
      "image/png": "[encoded data removed]",
      "text/plain": [
       "<Figure size 936x288 with 1 Axes>"
      ]
     },
     "metadata": {
      "needs_background": "light"
     },
     "output_type": "display_data"
    }
   ],
   "source": [
    "fig, axs = plt.subplots(1, 1, figsize=(13,4))\n",
    "plt.subplots_adjust(left=0.125, right=0.9, bottom=0.1, top=0.9, wspace=0.3, hspace=0.2)\n",
    "x = range(len(perMooneyacrossSubjects_ordered))\n",
    "axs.plot(perMooneyacrossSubjects_ordered.index, perMooneyacrossSubjects_ordered['MEAN_HOLISTIC'], alpha = 1, color = 'gray', label='HOLISTIC INDEX')\n",
    "# axs.fill_between(perMooneyacrossSubjects_ordered.index, \n",
    "#                 perMooneyacrossSubjects_ordered['CI_LOWER_HOLISTIC'], perMooneyacrossSubjects_ordered['CI_UPPER_HOLISTIC'],\n",
    "#                 facecolor='lightgrey', alpha=0.6)\n",
    "\n",
    "\n",
    "xlabelPlot = 'Mooney Face Number'\n",
    "ylabelPlot = 'Holistic index\\n across Mooney faces'\n",
    "# axs = plotFuncs.plotStyleBegin(axs, 18, 14, '',  xlabelPlot, ylabelPlot)\n"
   ]
  },
  {
   "cell_type": "code",
   "execution_count": null,
   "metadata": {},
   "outputs": [],
   "source": []
  },
  {
   "cell_type": "markdown",
   "metadata": {},
   "source": [
    "# Descriptives of two groups "
   ]
  },
  {
   "cell_type": "code",
   "execution_count": 43,
   "metadata": {
    "ExecuteTime": {
     "end_time": "2020-08-18T21:05:43.233159Z",
     "start_time": "2020-08-18T21:05:43.028085Z"
    }
   },
   "outputs": [
    {
     "data": {
      "text/html": [
       "<div>\n",
       "<style scoped>\n",
       "    .dataframe tbody tr th:only-of-type {\n",
       "        vertical-align: middle;\n",
       "    }\n",
       "\n",
       "    .dataframe tbody tr th {\n",
       "        vertical-align: top;\n",
       "    }\n",
       "\n",
       "    .dataframe thead th {\n",
       "        text-align: right;\n",
       "    }\n",
       "</style>\n",
       "<table border=\"1\" class=\"dataframe\">\n",
       "  <thead>\n",
       "    <tr style=\"text-align: right;\">\n",
       "      <th></th>\n",
       "      <th>MOONEYID</th>\n",
       "      <th>REAL_NAME</th>\n",
       "      <th>PAPER</th>\n",
       "      <th>PAPER_NUMBER</th>\n",
       "      <th>MEAN_HOLISTIC</th>\n",
       "      <th>CI_LOWER_HOLISTIC</th>\n",
       "      <th>CI_UPPER_HOLISTIC</th>\n",
       "      <th>MEAN_UPRIGHT</th>\n",
       "      <th>CI_LOWER_UPRIGHT</th>\n",
       "      <th>CI_UPPER_UPRIGHT</th>\n",
       "      <th>MEAN_INVERTED</th>\n",
       "      <th>CI_LOWER_INVERTED</th>\n",
       "      <th>CI_UPPER_INVERTED</th>\n",
       "    </tr>\n",
       "  </thead>\n",
       "  <tbody>\n",
       "    <tr>\n",
       "      <th>64</th>\n",
       "      <td>88</td>\n",
       "      <td>U0142.bmp</td>\n",
       "      <td>no</td>\n",
       "      <td>NaN</td>\n",
       "      <td>0</td>\n",
       "      <td>0</td>\n",
       "      <td>0</td>\n",
       "      <td>1</td>\n",
       "      <td>1</td>\n",
       "      <td>1</td>\n",
       "      <td>1</td>\n",
       "      <td>1</td>\n",
       "      <td>1</td>\n",
       "    </tr>\n",
       "    <tr>\n",
       "      <th>173</th>\n",
       "      <td>223</td>\n",
       "      <td>U0377.bmp</td>\n",
       "      <td>yes</td>\n",
       "      <td>72</td>\n",
       "      <td>0</td>\n",
       "      <td>-0.151844</td>\n",
       "      <td>0.151844</td>\n",
       "      <td>0.95</td>\n",
       "      <td>0.845349</td>\n",
       "      <td>1.05465</td>\n",
       "      <td>0.95</td>\n",
       "      <td>0.845349</td>\n",
       "      <td>1.05465</td>\n",
       "    </tr>\n",
       "    <tr>\n",
       "      <th>37</th>\n",
       "      <td>52</td>\n",
       "      <td>U0080.bmp</td>\n",
       "      <td>no</td>\n",
       "      <td>NaN</td>\n",
       "      <td>0</td>\n",
       "      <td>0</td>\n",
       "      <td>0</td>\n",
       "      <td>1</td>\n",
       "      <td>1</td>\n",
       "      <td>1</td>\n",
       "      <td>1</td>\n",
       "      <td>1</td>\n",
       "      <td>1</td>\n",
       "    </tr>\n",
       "    <tr>\n",
       "      <th>38</th>\n",
       "      <td>53</td>\n",
       "      <td>U0084.bmp</td>\n",
       "      <td>no</td>\n",
       "      <td>NaN</td>\n",
       "      <td>0</td>\n",
       "      <td>0</td>\n",
       "      <td>0</td>\n",
       "      <td>1</td>\n",
       "      <td>1</td>\n",
       "      <td>1</td>\n",
       "      <td>1</td>\n",
       "      <td>1</td>\n",
       "      <td>1</td>\n",
       "    </tr>\n",
       "    <tr>\n",
       "      <th>41</th>\n",
       "      <td>59</td>\n",
       "      <td>U0095.bmp</td>\n",
       "      <td>no</td>\n",
       "      <td>NaN</td>\n",
       "      <td>0</td>\n",
       "      <td>0</td>\n",
       "      <td>0</td>\n",
       "      <td>1</td>\n",
       "      <td>1</td>\n",
       "      <td>1</td>\n",
       "      <td>1</td>\n",
       "      <td>1</td>\n",
       "      <td>1</td>\n",
       "    </tr>\n",
       "    <tr>\n",
       "      <th>97</th>\n",
       "      <td>135</td>\n",
       "      <td>U0220.bmp</td>\n",
       "      <td>no</td>\n",
       "      <td>NaN</td>\n",
       "      <td>0</td>\n",
       "      <td>0</td>\n",
       "      <td>0</td>\n",
       "      <td>1</td>\n",
       "      <td>1</td>\n",
       "      <td>1</td>\n",
       "      <td>1</td>\n",
       "      <td>1</td>\n",
       "      <td>1</td>\n",
       "    </tr>\n",
       "    <tr>\n",
       "      <th>179</th>\n",
       "      <td>230</td>\n",
       "      <td>U0395.bmp</td>\n",
       "      <td>no</td>\n",
       "      <td>NaN</td>\n",
       "      <td>0</td>\n",
       "      <td>-0.21474</td>\n",
       "      <td>0.21474</td>\n",
       "      <td>0.9</td>\n",
       "      <td>0.755948</td>\n",
       "      <td>1.04405</td>\n",
       "      <td>0.9</td>\n",
       "      <td>0.755948</td>\n",
       "      <td>1.04405</td>\n",
       "    </tr>\n",
       "    <tr>\n",
       "      <th>171</th>\n",
       "      <td>221</td>\n",
       "      <td>U0374.bmp</td>\n",
       "      <td>no</td>\n",
       "      <td>NaN</td>\n",
       "      <td>0</td>\n",
       "      <td>0</td>\n",
       "      <td>0</td>\n",
       "      <td>1</td>\n",
       "      <td>1</td>\n",
       "      <td>1</td>\n",
       "      <td>1</td>\n",
       "      <td>1</td>\n",
       "      <td>1</td>\n",
       "    </tr>\n",
       "    <tr>\n",
       "      <th>151</th>\n",
       "      <td>199</td>\n",
       "      <td>U0331.bmp</td>\n",
       "      <td>no</td>\n",
       "      <td>NaN</td>\n",
       "      <td>0</td>\n",
       "      <td>0</td>\n",
       "      <td>0</td>\n",
       "      <td>1</td>\n",
       "      <td>1</td>\n",
       "      <td>1</td>\n",
       "      <td>1</td>\n",
       "      <td>1</td>\n",
       "      <td>1</td>\n",
       "    </tr>\n",
       "    <tr>\n",
       "      <th>58</th>\n",
       "      <td>80</td>\n",
       "      <td>U0133.bmp</td>\n",
       "      <td>no</td>\n",
       "      <td>NaN</td>\n",
       "      <td>0</td>\n",
       "      <td>0</td>\n",
       "      <td>0</td>\n",
       "      <td>1</td>\n",
       "      <td>1</td>\n",
       "      <td>1</td>\n",
       "      <td>1</td>\n",
       "      <td>1</td>\n",
       "      <td>1</td>\n",
       "    </tr>\n",
       "    <tr>\n",
       "      <th>157</th>\n",
       "      <td>207</td>\n",
       "      <td>U0348.bmp</td>\n",
       "      <td>no</td>\n",
       "      <td>NaN</td>\n",
       "      <td>0</td>\n",
       "      <td>0</td>\n",
       "      <td>0</td>\n",
       "      <td>1</td>\n",
       "      <td>1</td>\n",
       "      <td>1</td>\n",
       "      <td>1</td>\n",
       "      <td>1</td>\n",
       "      <td>1</td>\n",
       "    </tr>\n",
       "    <tr>\n",
       "      <th>57</th>\n",
       "      <td>77</td>\n",
       "      <td>U0128.bmp</td>\n",
       "      <td>no</td>\n",
       "      <td>NaN</td>\n",
       "      <td>0</td>\n",
       "      <td>0</td>\n",
       "      <td>0</td>\n",
       "      <td>1</td>\n",
       "      <td>1</td>\n",
       "      <td>1</td>\n",
       "      <td>1</td>\n",
       "      <td>1</td>\n",
       "      <td>1</td>\n",
       "    </tr>\n",
       "    <tr>\n",
       "      <th>55</th>\n",
       "      <td>75</td>\n",
       "      <td>U0125.bmp</td>\n",
       "      <td>no</td>\n",
       "      <td>NaN</td>\n",
       "      <td>0</td>\n",
       "      <td>0</td>\n",
       "      <td>0</td>\n",
       "      <td>1</td>\n",
       "      <td>1</td>\n",
       "      <td>1</td>\n",
       "      <td>1</td>\n",
       "      <td>1</td>\n",
       "      <td>1</td>\n",
       "    </tr>\n",
       "    <tr>\n",
       "      <th>43</th>\n",
       "      <td>61</td>\n",
       "      <td>U0097.bmp</td>\n",
       "      <td>no</td>\n",
       "      <td>NaN</td>\n",
       "      <td>0</td>\n",
       "      <td>0</td>\n",
       "      <td>0</td>\n",
       "      <td>1</td>\n",
       "      <td>1</td>\n",
       "      <td>1</td>\n",
       "      <td>1</td>\n",
       "      <td>1</td>\n",
       "      <td>1</td>\n",
       "    </tr>\n",
       "    <tr>\n",
       "      <th>73</th>\n",
       "      <td>98</td>\n",
       "      <td>U0158.bmp</td>\n",
       "      <td>no</td>\n",
       "      <td>NaN</td>\n",
       "      <td>0</td>\n",
       "      <td>0</td>\n",
       "      <td>0</td>\n",
       "      <td>1</td>\n",
       "      <td>1</td>\n",
       "      <td>1</td>\n",
       "      <td>1</td>\n",
       "      <td>1</td>\n",
       "      <td>1</td>\n",
       "    </tr>\n",
       "    <tr>\n",
       "      <th>211</th>\n",
       "      <td>274</td>\n",
       "      <td>U0504.bmp</td>\n",
       "      <td>no</td>\n",
       "      <td>NaN</td>\n",
       "      <td>0</td>\n",
       "      <td>0</td>\n",
       "      <td>0</td>\n",
       "      <td>1</td>\n",
       "      <td>1</td>\n",
       "      <td>1</td>\n",
       "      <td>1</td>\n",
       "      <td>1</td>\n",
       "      <td>1</td>\n",
       "    </tr>\n",
       "    <tr>\n",
       "      <th>148</th>\n",
       "      <td>196</td>\n",
       "      <td>U0328.bmp</td>\n",
       "      <td>no</td>\n",
       "      <td>NaN</td>\n",
       "      <td>0</td>\n",
       "      <td>0</td>\n",
       "      <td>0</td>\n",
       "      <td>1</td>\n",
       "      <td>1</td>\n",
       "      <td>1</td>\n",
       "      <td>1</td>\n",
       "      <td>1</td>\n",
       "      <td>1</td>\n",
       "    </tr>\n",
       "    <tr>\n",
       "      <th>208</th>\n",
       "      <td>271</td>\n",
       "      <td>U0501.bmp</td>\n",
       "      <td>no</td>\n",
       "      <td>NaN</td>\n",
       "      <td>0</td>\n",
       "      <td>0</td>\n",
       "      <td>0</td>\n",
       "      <td>1</td>\n",
       "      <td>1</td>\n",
       "      <td>1</td>\n",
       "      <td>1</td>\n",
       "      <td>1</td>\n",
       "      <td>1</td>\n",
       "    </tr>\n",
       "    <tr>\n",
       "      <th>128</th>\n",
       "      <td>173</td>\n",
       "      <td>U0292.bmp</td>\n",
       "      <td>no</td>\n",
       "      <td>NaN</td>\n",
       "      <td>0</td>\n",
       "      <td>0</td>\n",
       "      <td>0</td>\n",
       "      <td>1</td>\n",
       "      <td>1</td>\n",
       "      <td>1</td>\n",
       "      <td>1</td>\n",
       "      <td>1</td>\n",
       "      <td>1</td>\n",
       "    </tr>\n",
       "    <tr>\n",
       "      <th>123</th>\n",
       "      <td>168</td>\n",
       "      <td>U0283.bmp</td>\n",
       "      <td>no</td>\n",
       "      <td>NaN</td>\n",
       "      <td>0</td>\n",
       "      <td>0</td>\n",
       "      <td>0</td>\n",
       "      <td>1</td>\n",
       "      <td>1</td>\n",
       "      <td>1</td>\n",
       "      <td>1</td>\n",
       "      <td>1</td>\n",
       "      <td>1</td>\n",
       "    </tr>\n",
       "  </tbody>\n",
       "</table>\n",
       "</div>"
      ],
      "text/plain": [
       "    MOONEYID  REAL_NAME PAPER PAPER_NUMBER MEAN_HOLISTIC CI_LOWER_HOLISTIC  \\\n",
       "64        88  U0142.bmp    no          NaN             0                 0   \n",
       "173      223  U0377.bmp   yes           72             0         -0.151844   \n",
       "37        52  U0080.bmp    no          NaN             0                 0   \n",
       "38        53  U0084.bmp    no          NaN             0                 0   \n",
       "41        59  U0095.bmp    no          NaN             0                 0   \n",
       "97       135  U0220.bmp    no          NaN             0                 0   \n",
       "179      230  U0395.bmp    no          NaN             0          -0.21474   \n",
       "171      221  U0374.bmp    no          NaN             0                 0   \n",
       "151      199  U0331.bmp    no          NaN             0                 0   \n",
       "58        80  U0133.bmp    no          NaN             0                 0   \n",
       "157      207  U0348.bmp    no          NaN             0                 0   \n",
       "57        77  U0128.bmp    no          NaN             0                 0   \n",
       "55        75  U0125.bmp    no          NaN             0                 0   \n",
       "43        61  U0097.bmp    no          NaN             0                 0   \n",
       "73        98  U0158.bmp    no          NaN             0                 0   \n",
       "211      274  U0504.bmp    no          NaN             0                 0   \n",
       "148      196  U0328.bmp    no          NaN             0                 0   \n",
       "208      271  U0501.bmp    no          NaN             0                 0   \n",
       "128      173  U0292.bmp    no          NaN             0                 0   \n",
       "123      168  U0283.bmp    no          NaN             0                 0   \n",
       "\n",
       "    CI_UPPER_HOLISTIC MEAN_UPRIGHT CI_LOWER_UPRIGHT CI_UPPER_UPRIGHT  \\\n",
       "64                  0            1                1                1   \n",
       "173          0.151844         0.95         0.845349          1.05465   \n",
       "37                  0            1                1                1   \n",
       "38                  0            1                1                1   \n",
       "41                  0            1                1                1   \n",
       "97                  0            1                1                1   \n",
       "179           0.21474          0.9         0.755948          1.04405   \n",
       "171                 0            1                1                1   \n",
       "151                 0            1                1                1   \n",
       "58                  0            1                1                1   \n",
       "157                 0            1                1                1   \n",
       "57                  0            1                1                1   \n",
       "55                  0            1                1                1   \n",
       "43                  0            1                1                1   \n",
       "73                  0            1                1                1   \n",
       "211                 0            1                1                1   \n",
       "148                 0            1                1                1   \n",
       "208                 0            1                1                1   \n",
       "128                 0            1                1                1   \n",
       "123                 0            1                1                1   \n",
       "\n",
       "    MEAN_INVERTED CI_LOWER_INVERTED CI_UPPER_INVERTED  \n",
       "64              1                 1                 1  \n",
       "173          0.95          0.845349           1.05465  \n",
       "37              1                 1                 1  \n",
       "38              1                 1                 1  \n",
       "41              1                 1                 1  \n",
       "97              1                 1                 1  \n",
       "179           0.9          0.755948           1.04405  \n",
       "171             1                 1                 1  \n",
       "151             1                 1                 1  \n",
       "58              1                 1                 1  \n",
       "157             1                 1                 1  \n",
       "57              1                 1                 1  \n",
       "55              1                 1                 1  \n",
       "43              1                 1                 1  \n",
       "73              1                 1                 1  \n",
       "211             1                 1                 1  \n",
       "148             1                 1                 1  \n",
       "208             1                 1                 1  \n",
       "128             1                 1                 1  \n",
       "123             1                 1                 1  "
      ]
     },
     "execution_count": 43,
     "metadata": {},
     "output_type": "execute_result"
    }
   ],
   "source": [
    "low_holistic"
   ]
  },
  {
   "cell_type": "code",
   "execution_count": 48,
   "metadata": {
    "ExecuteTime": {
     "end_time": "2020-08-18T21:07:43.084909Z",
     "start_time": "2020-08-18T21:07:42.985515Z"
    }
   },
   "outputs": [
    {
     "name": "stdout",
     "output_type": "stream",
     "text": [
      "Mean: 0.4074999809265137\n",
      "SEM: 0.029306680625806224\n"
     ]
    }
   ],
   "source": [
    "print('Mean: ' + str(np.mean(high_holistic['MEAN_HOLISTIC'])))\n",
    "print('SEM: ' + str(stats.sem(high_holistic['MEAN_HOLISTIC'])))"
   ]
  },
  {
   "cell_type": "code",
   "execution_count": 49,
   "metadata": {
    "ExecuteTime": {
     "end_time": "2020-08-18T21:07:58.971771Z",
     "start_time": "2020-08-18T21:07:58.911924Z"
    }
   },
   "outputs": [
    {
     "name": "stdout",
     "output_type": "stream",
     "text": [
      "Mean: 0.0\n",
      "SEM: 0.0\n"
     ]
    }
   ],
   "source": [
    "print('Mean: ' + str(np.mean(low_holistic['MEAN_HOLISTIC'])))\n",
    "print('SEM: ' + str(stats.sem(low_holistic['MEAN_HOLISTIC'])))"
   ]
  },
  {
   "cell_type": "code",
   "execution_count": 50,
   "metadata": {
    "ExecuteTime": {
     "end_time": "2020-08-18T21:09:27.205535Z",
     "start_time": "2020-08-18T21:09:27.111749Z"
    }
   },
   "outputs": [
    {
     "data": {
      "text/plain": [
       "Ttest_relResult(statistic=-13.90467956713714, pvalue=2.0727640119868704e-11)"
      ]
     },
     "execution_count": 50,
     "metadata": {},
     "output_type": "execute_result"
    }
   ],
   "source": [
    "stats.ttest_rel(low_holistic['MEAN_HOLISTIC'],high_holistic['MEAN_HOLISTIC'])"
   ]
  },
  {
   "cell_type": "code",
   "execution_count": 51,
   "metadata": {
    "ExecuteTime": {
     "end_time": "2020-08-18T21:19:07.868590Z",
     "start_time": "2020-08-18T21:19:07.658744Z"
    }
   },
   "outputs": [
    {
     "data": {
      "text/plain": [
       "WilcoxonResult(statistic=0.0, pvalue=7.999968265020404e-05)"
      ]
     },
     "execution_count": 51,
     "metadata": {},
     "output_type": "execute_result"
    }
   ],
   "source": [
    "stats.wilcoxon(low_holistic['MEAN_HOLISTIC'],high_holistic['MEAN_HOLISTIC'])"
   ]
  },
  {
   "cell_type": "code",
   "execution_count": 56,
   "metadata": {
    "ExecuteTime": {
     "end_time": "2020-08-18T21:25:55.454001Z",
     "start_time": "2020-08-18T21:25:55.255351Z"
    }
   },
   "outputs": [
    {
     "data": {
      "text/html": [
       "<div>\n",
       "<style scoped>\n",
       "    .dataframe tbody tr th:only-of-type {\n",
       "        vertical-align: middle;\n",
       "    }\n",
       "\n",
       "    .dataframe tbody tr th {\n",
       "        vertical-align: top;\n",
       "    }\n",
       "\n",
       "    .dataframe thead th {\n",
       "        text-align: right;\n",
       "    }\n",
       "</style>\n",
       "<table border=\"1\" class=\"dataframe\">\n",
       "  <thead>\n",
       "    <tr style=\"text-align: right;\">\n",
       "      <th></th>\n",
       "      <th>W-val</th>\n",
       "      <th>tail</th>\n",
       "      <th>p-val</th>\n",
       "      <th>RBC</th>\n",
       "      <th>CLES</th>\n",
       "    </tr>\n",
       "  </thead>\n",
       "  <tbody>\n",
       "    <tr>\n",
       "      <th>Wilcoxon</th>\n",
       "      <td>0.0</td>\n",
       "      <td>two-sided</td>\n",
       "      <td>0.000087</td>\n",
       "      <td>-1.0</td>\n",
       "      <td>0.0</td>\n",
       "    </tr>\n",
       "  </tbody>\n",
       "</table>\n",
       "</div>"
      ],
      "text/plain": [
       "          W-val       tail     p-val  RBC  CLES\n",
       "Wilcoxon    0.0  two-sided  0.000087 -1.0   0.0"
      ]
     },
     "execution_count": 56,
     "metadata": {},
     "output_type": "execute_result"
    }
   ],
   "source": [
    "import pingouin\n",
    "pingouin.wilcoxon(pd.to_numeric(low_holistic['MEAN_HOLISTIC']), pd.to_numeric(high_holistic['MEAN_HOLISTIC']))"
   ]
  },
  {
   "cell_type": "code",
   "execution_count": null,
   "metadata": {},
   "outputs": [],
   "source": []
  }
 ],
 "metadata": {
  "kernelspec": {
   "display_name": "Python 3",
   "language": "python",
   "name": "python3"
  },
  "language_info": {
   "codemirror_mode": {
    "name": "ipython",
    "version": 3
   },
   "file_extension": ".py",
   "mimetype": "text/x-python",
   "name": "python",
   "nbconvert_exporter": "python",
   "pygments_lexer": "ipython3",
   "version": "3.7.6"
  },
  "toc": {
   "base_numbering": 1,
   "nav_menu": {},
   "number_sections": true,
   "sideBar": true,
   "skip_h1_title": false,
   "title_cell": "Table of Contents",
   "title_sidebar": "Contents",
   "toc_cell": false,
   "toc_position": {},
   "toc_section_display": true,
   "toc_window_display": true
  },
  "varInspector": {
   "cols": {
    "lenName": 16,
    "lenType": 16,
    "lenVar": 40
   },
   "kernels_config": {
    "python": {
     "delete_cmd_postfix": "",
     "delete_cmd_prefix": "del ",
     "library": "var_list.py",
     "varRefreshCmd": "print(var_dic_list())"
    },
    "r": {
     "delete_cmd_postfix": ") ",
     "delete_cmd_prefix": "rm(",
     "library": "var_list.r",
     "varRefreshCmd": "cat(var_dic_list()) "
    }
   },
   "types_to_exclude": [
    "module",
    "function",
    "builtin_function_or_method",
    "instance",
    "_Feature"
   ],
   "window_display": false
  }
 },
 "nbformat": 4,
 "nbformat_minor": 2
}
