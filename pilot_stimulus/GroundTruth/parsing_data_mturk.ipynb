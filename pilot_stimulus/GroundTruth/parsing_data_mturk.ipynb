{
 "cells": [
  {
   "cell_type": "markdown",
   "metadata": {},
   "source": [
    "This code loads the data recorded through qualtrics and mTurk and turns it into a table that can be analyzed."
   ]
  },
  {
   "cell_type": "markdown",
   "metadata": {},
   "source": [
    "# Load libraries"
   ]
  },
  {
   "cell_type": "code",
   "execution_count": 32,
   "metadata": {
    "ExecuteTime": {
     "end_time": "2019-10-25T20:41:13.135621Z",
     "start_time": "2019-10-25T20:41:13.132204Z"
    }
   },
   "outputs": [],
   "source": [
    "import os # for my mac info, folders, directories, etc.\n",
    "import pandas as pd # basic functions, 'as pd' will allow us to reference the pandas functions"
   ]
  },
  {
   "cell_type": "code",
   "execution_count": 33,
   "metadata": {
    "ExecuteTime": {
     "end_time": "2019-10-25T20:41:13.585708Z",
     "start_time": "2019-10-25T20:41:13.580614Z"
    }
   },
   "outputs": [
    {
     "name": "stdout",
     "output_type": "stream",
     "text": [
      "/Users/teresa/Dropbox/Psicologia/PhD/UC BERKELEY/WHITNEY LAB/CROWDINGMOONEY/qualtrics/GroundTruth\n"
     ]
    }
   ],
   "source": [
    "# find your current directory\n",
    "print(os.getcwd())"
   ]
  },
  {
   "cell_type": "markdown",
   "metadata": {},
   "source": [
    "# Load data"
   ]
  },
  {
   "cell_type": "code",
   "execution_count": 34,
   "metadata": {
    "ExecuteTime": {
     "end_time": "2019-10-25T20:41:14.827950Z",
     "start_time": "2019-10-25T20:41:14.654909Z"
    }
   },
   "outputs": [
    {
     "data": {
      "text/html": [
       "<div>\n",
       "<style scoped>\n",
       "    .dataframe tbody tr th:only-of-type {\n",
       "        vertical-align: middle;\n",
       "    }\n",
       "\n",
       "    .dataframe tbody tr th {\n",
       "        vertical-align: top;\n",
       "    }\n",
       "\n",
       "    .dataframe thead th {\n",
       "        text-align: right;\n",
       "    }\n",
       "</style>\n",
       "<table border=\"1\" class=\"dataframe\">\n",
       "  <thead>\n",
       "    <tr style=\"text-align: right;\">\n",
       "      <th></th>\n",
       "      <th>StartDate</th>\n",
       "      <th>EndDate</th>\n",
       "      <th>Status</th>\n",
       "      <th>IPAddress</th>\n",
       "      <th>Progress</th>\n",
       "      <th>Duration (in seconds)</th>\n",
       "      <th>Finished</th>\n",
       "      <th>RecordedDate</th>\n",
       "      <th>ResponseId</th>\n",
       "      <th>RecipientLastName</th>\n",
       "      <th>...</th>\n",
       "      <th>277_timing_Last Click</th>\n",
       "      <th>277_timing_Page Submit</th>\n",
       "      <th>277_timing_Click Count</th>\n",
       "      <th>277_Q2</th>\n",
       "      <th>278_timing_First Click</th>\n",
       "      <th>278_timing_Last Click</th>\n",
       "      <th>278_timing_Page Submit</th>\n",
       "      <th>278_timing_Click Count</th>\n",
       "      <th>278_Q2</th>\n",
       "      <th>mTurkCode</th>\n",
       "    </tr>\n",
       "  </thead>\n",
       "  <tbody>\n",
       "    <tr>\n",
       "      <td>0</td>\n",
       "      <td>Start Date</td>\n",
       "      <td>End Date</td>\n",
       "      <td>Response Type</td>\n",
       "      <td>IP Address</td>\n",
       "      <td>Progress</td>\n",
       "      <td>Duration (in seconds)</td>\n",
       "      <td>Finished</td>\n",
       "      <td>Recorded Date</td>\n",
       "      <td>Response ID</td>\n",
       "      <td>Recipient Last Name</td>\n",
       "      <td>...</td>\n",
       "      <td>Timing - https://storage.cloud.google.com/gend...</td>\n",
       "      <td>Timing - https://storage.cloud.google.com/gend...</td>\n",
       "      <td>Timing - https://storage.cloud.google.com/gend...</td>\n",
       "      <td>https://storage.cloud.google.com/gender_mooney...</td>\n",
       "      <td>Timing - https://storage.cloud.google.com/gend...</td>\n",
       "      <td>Timing - https://storage.cloud.google.com/gend...</td>\n",
       "      <td>Timing - https://storage.cloud.google.com/gend...</td>\n",
       "      <td>Timing - https://storage.cloud.google.com/gend...</td>\n",
       "      <td>https://storage.cloud.google.com/gender_mooney...</td>\n",
       "      <td>mTurkCode</td>\n",
       "    </tr>\n",
       "    <tr>\n",
       "      <td>1</td>\n",
       "      <td>{\"ImportId\":\"startDate\",\"timeZone\":\"America/De...</td>\n",
       "      <td>{\"ImportId\":\"endDate\",\"timeZone\":\"America/Denv...</td>\n",
       "      <td>{\"ImportId\":\"status\"}</td>\n",
       "      <td>{\"ImportId\":\"ipAddress\"}</td>\n",
       "      <td>{\"ImportId\":\"progress\"}</td>\n",
       "      <td>{\"ImportId\":\"duration\"}</td>\n",
       "      <td>{\"ImportId\":\"finished\"}</td>\n",
       "      <td>{\"ImportId\":\"recordedDate\",\"timeZone\":\"America...</td>\n",
       "      <td>{\"ImportId\":\"_recordId\"}</td>\n",
       "      <td>{\"ImportId\":\"recipientLastName\"}</td>\n",
       "      <td>...</td>\n",
       "      <td>{\"ImportId\":\"277_QID9_LAST_CLICK\"}</td>\n",
       "      <td>{\"ImportId\":\"277_QID9_PAGE_SUBMIT\"}</td>\n",
       "      <td>{\"ImportId\":\"277_QID9_CLICK_COUNT\"}</td>\n",
       "      <td>{\"ImportId\":\"277_QID6\"}</td>\n",
       "      <td>{\"ImportId\":\"278_QID9_FIRST_CLICK\"}</td>\n",
       "      <td>{\"ImportId\":\"278_QID9_LAST_CLICK\"}</td>\n",
       "      <td>{\"ImportId\":\"278_QID9_PAGE_SUBMIT\"}</td>\n",
       "      <td>{\"ImportId\":\"278_QID9_CLICK_COUNT\"}</td>\n",
       "      <td>{\"ImportId\":\"278_QID6\"}</td>\n",
       "      <td>{\"ImportId\":\"mTurkCode\"}</td>\n",
       "    </tr>\n",
       "    <tr>\n",
       "      <td>2</td>\n",
       "      <td>2019-10-23 18:04:18</td>\n",
       "      <td>2019-10-23 18:15:51</td>\n",
       "      <td>IP Address</td>\n",
       "      <td>169.229.239.172</td>\n",
       "      <td>100</td>\n",
       "      <td>692</td>\n",
       "      <td>True</td>\n",
       "      <td>2019-10-23 18:15:54</td>\n",
       "      <td>R_1dNAdai5M1mCBSf</td>\n",
       "      <td>NaN</td>\n",
       "      <td>...</td>\n",
       "      <td>1.561</td>\n",
       "      <td>1.57</td>\n",
       "      <td>1</td>\n",
       "      <td>Male</td>\n",
       "      <td>1.708</td>\n",
       "      <td>1.708</td>\n",
       "      <td>1.719</td>\n",
       "      <td>1</td>\n",
       "      <td>Female</td>\n",
       "      <td>9175056</td>\n",
       "    </tr>\n",
       "    <tr>\n",
       "      <td>3</td>\n",
       "      <td>2019-10-23 22:51:51</td>\n",
       "      <td>2019-10-23 23:03:47</td>\n",
       "      <td>IP Address</td>\n",
       "      <td>73.169.119.154</td>\n",
       "      <td>100</td>\n",
       "      <td>716</td>\n",
       "      <td>True</td>\n",
       "      <td>2019-10-23 23:03:49</td>\n",
       "      <td>R_CjXoCMpXVz9XyUN</td>\n",
       "      <td>NaN</td>\n",
       "      <td>...</td>\n",
       "      <td>1.795</td>\n",
       "      <td>1.81</td>\n",
       "      <td>1</td>\n",
       "      <td>Male</td>\n",
       "      <td>1.893</td>\n",
       "      <td>1.893</td>\n",
       "      <td>1.906</td>\n",
       "      <td>1</td>\n",
       "      <td>Female</td>\n",
       "      <td>5920762</td>\n",
       "    </tr>\n",
       "    <tr>\n",
       "      <td>4</td>\n",
       "      <td>2019-10-23 22:52:18</td>\n",
       "      <td>2019-10-23 23:11:00</td>\n",
       "      <td>IP Address</td>\n",
       "      <td>162.155.15.74</td>\n",
       "      <td>100</td>\n",
       "      <td>1122</td>\n",
       "      <td>True</td>\n",
       "      <td>2019-10-23 23:11:01</td>\n",
       "      <td>R_2S0u4pCwYLatFk4</td>\n",
       "      <td>NaN</td>\n",
       "      <td>...</td>\n",
       "      <td>1.466</td>\n",
       "      <td>1.524</td>\n",
       "      <td>1</td>\n",
       "      <td>Male</td>\n",
       "      <td>1.891</td>\n",
       "      <td>1.891</td>\n",
       "      <td>1.917</td>\n",
       "      <td>1</td>\n",
       "      <td>Female</td>\n",
       "      <td>2503639</td>\n",
       "    </tr>\n",
       "  </tbody>\n",
       "</table>\n",
       "<p>5 rows × 1409 columns</p>\n",
       "</div>"
      ],
      "text/plain": [
       "                                           StartDate  \\\n",
       "0                                         Start Date   \n",
       "1  {\"ImportId\":\"startDate\",\"timeZone\":\"America/De...   \n",
       "2                                2019-10-23 18:04:18   \n",
       "3                                2019-10-23 22:51:51   \n",
       "4                                2019-10-23 22:52:18   \n",
       "\n",
       "                                             EndDate                 Status  \\\n",
       "0                                           End Date          Response Type   \n",
       "1  {\"ImportId\":\"endDate\",\"timeZone\":\"America/Denv...  {\"ImportId\":\"status\"}   \n",
       "2                                2019-10-23 18:15:51             IP Address   \n",
       "3                                2019-10-23 23:03:47             IP Address   \n",
       "4                                2019-10-23 23:11:00             IP Address   \n",
       "\n",
       "                  IPAddress                 Progress    Duration (in seconds)  \\\n",
       "0                IP Address                 Progress    Duration (in seconds)   \n",
       "1  {\"ImportId\":\"ipAddress\"}  {\"ImportId\":\"progress\"}  {\"ImportId\":\"duration\"}   \n",
       "2           169.229.239.172                      100                      692   \n",
       "3            73.169.119.154                      100                      716   \n",
       "4             162.155.15.74                      100                     1122   \n",
       "\n",
       "                  Finished                                       RecordedDate  \\\n",
       "0                 Finished                                      Recorded Date   \n",
       "1  {\"ImportId\":\"finished\"}  {\"ImportId\":\"recordedDate\",\"timeZone\":\"America...   \n",
       "2                     True                                2019-10-23 18:15:54   \n",
       "3                     True                                2019-10-23 23:03:49   \n",
       "4                     True                                2019-10-23 23:11:01   \n",
       "\n",
       "                 ResponseId                 RecipientLastName  ...  \\\n",
       "0               Response ID               Recipient Last Name  ...   \n",
       "1  {\"ImportId\":\"_recordId\"}  {\"ImportId\":\"recipientLastName\"}  ...   \n",
       "2         R_1dNAdai5M1mCBSf                               NaN  ...   \n",
       "3         R_CjXoCMpXVz9XyUN                               NaN  ...   \n",
       "4         R_2S0u4pCwYLatFk4                               NaN  ...   \n",
       "\n",
       "                               277_timing_Last Click  \\\n",
       "0  Timing - https://storage.cloud.google.com/gend...   \n",
       "1                 {\"ImportId\":\"277_QID9_LAST_CLICK\"}   \n",
       "2                                              1.561   \n",
       "3                                              1.795   \n",
       "4                                              1.466   \n",
       "\n",
       "                              277_timing_Page Submit  \\\n",
       "0  Timing - https://storage.cloud.google.com/gend...   \n",
       "1                {\"ImportId\":\"277_QID9_PAGE_SUBMIT\"}   \n",
       "2                                               1.57   \n",
       "3                                               1.81   \n",
       "4                                              1.524   \n",
       "\n",
       "                              277_timing_Click Count  \\\n",
       "0  Timing - https://storage.cloud.google.com/gend...   \n",
       "1                {\"ImportId\":\"277_QID9_CLICK_COUNT\"}   \n",
       "2                                                  1   \n",
       "3                                                  1   \n",
       "4                                                  1   \n",
       "\n",
       "                                              277_Q2  \\\n",
       "0  https://storage.cloud.google.com/gender_mooney...   \n",
       "1                            {\"ImportId\":\"277_QID6\"}   \n",
       "2                                               Male   \n",
       "3                                               Male   \n",
       "4                                               Male   \n",
       "\n",
       "                              278_timing_First Click  \\\n",
       "0  Timing - https://storage.cloud.google.com/gend...   \n",
       "1                {\"ImportId\":\"278_QID9_FIRST_CLICK\"}   \n",
       "2                                              1.708   \n",
       "3                                              1.893   \n",
       "4                                              1.891   \n",
       "\n",
       "                               278_timing_Last Click  \\\n",
       "0  Timing - https://storage.cloud.google.com/gend...   \n",
       "1                 {\"ImportId\":\"278_QID9_LAST_CLICK\"}   \n",
       "2                                              1.708   \n",
       "3                                              1.893   \n",
       "4                                              1.891   \n",
       "\n",
       "                              278_timing_Page Submit  \\\n",
       "0  Timing - https://storage.cloud.google.com/gend...   \n",
       "1                {\"ImportId\":\"278_QID9_PAGE_SUBMIT\"}   \n",
       "2                                              1.719   \n",
       "3                                              1.906   \n",
       "4                                              1.917   \n",
       "\n",
       "                              278_timing_Click Count  \\\n",
       "0  Timing - https://storage.cloud.google.com/gend...   \n",
       "1                {\"ImportId\":\"278_QID9_CLICK_COUNT\"}   \n",
       "2                                                  1   \n",
       "3                                                  1   \n",
       "4                                                  1   \n",
       "\n",
       "                                              278_Q2                 mTurkCode  \n",
       "0  https://storage.cloud.google.com/gender_mooney...                 mTurkCode  \n",
       "1                            {\"ImportId\":\"278_QID6\"}  {\"ImportId\":\"mTurkCode\"}  \n",
       "2                                             Female                   9175056  \n",
       "3                                             Female                   5920762  \n",
       "4                                             Female                   2503639  \n",
       "\n",
       "[5 rows x 1409 columns]"
      ]
     },
     "execution_count": 34,
     "metadata": {},
     "output_type": "execute_result"
    }
   ],
   "source": [
    "# get name of data file\n",
    "name_file = \"data_20subjects.csv\"\n",
    "\n",
    "# load the data file, it must be in current directory\n",
    "data = pd.read_csv(name_file) \n",
    "\n",
    "# read head of file\n",
    "data.head()"
   ]
  },
  {
   "cell_type": "code",
   "execution_count": 35,
   "metadata": {
    "ExecuteTime": {
     "end_time": "2019-10-25T20:41:15.196867Z",
     "start_time": "2019-10-25T20:41:15.175092Z"
    }
   },
   "outputs": [
    {
     "data": {
      "text/html": [
       "<div>\n",
       "<style scoped>\n",
       "    .dataframe tbody tr th:only-of-type {\n",
       "        vertical-align: middle;\n",
       "    }\n",
       "\n",
       "    .dataframe tbody tr th {\n",
       "        vertical-align: top;\n",
       "    }\n",
       "\n",
       "    .dataframe thead th {\n",
       "        text-align: right;\n",
       "    }\n",
       "</style>\n",
       "<table border=\"1\" class=\"dataframe\">\n",
       "  <thead>\n",
       "    <tr style=\"text-align: right;\">\n",
       "      <th></th>\n",
       "      <th>StartDate</th>\n",
       "      <th>EndDate</th>\n",
       "      <th>Status</th>\n",
       "      <th>IPAddress</th>\n",
       "      <th>Progress</th>\n",
       "      <th>Duration (in seconds)</th>\n",
       "      <th>Finished</th>\n",
       "      <th>RecordedDate</th>\n",
       "      <th>ResponseId</th>\n",
       "      <th>RecipientLastName</th>\n",
       "      <th>...</th>\n",
       "      <th>277_timing_Last Click</th>\n",
       "      <th>277_timing_Page Submit</th>\n",
       "      <th>277_timing_Click Count</th>\n",
       "      <th>277_Q2</th>\n",
       "      <th>278_timing_First Click</th>\n",
       "      <th>278_timing_Last Click</th>\n",
       "      <th>278_timing_Page Submit</th>\n",
       "      <th>278_timing_Click Count</th>\n",
       "      <th>278_Q2</th>\n",
       "      <th>mTurkCode</th>\n",
       "    </tr>\n",
       "  </thead>\n",
       "  <tbody>\n",
       "    <tr>\n",
       "      <td>2</td>\n",
       "      <td>2019-10-23 18:04:18</td>\n",
       "      <td>2019-10-23 18:15:51</td>\n",
       "      <td>IP Address</td>\n",
       "      <td>169.229.239.172</td>\n",
       "      <td>100</td>\n",
       "      <td>692</td>\n",
       "      <td>True</td>\n",
       "      <td>2019-10-23 18:15:54</td>\n",
       "      <td>R_1dNAdai5M1mCBSf</td>\n",
       "      <td>NaN</td>\n",
       "      <td>...</td>\n",
       "      <td>1.561</td>\n",
       "      <td>1.57</td>\n",
       "      <td>1</td>\n",
       "      <td>Male</td>\n",
       "      <td>1.708</td>\n",
       "      <td>1.708</td>\n",
       "      <td>1.719</td>\n",
       "      <td>1</td>\n",
       "      <td>Female</td>\n",
       "      <td>9175056</td>\n",
       "    </tr>\n",
       "    <tr>\n",
       "      <td>3</td>\n",
       "      <td>2019-10-23 22:51:51</td>\n",
       "      <td>2019-10-23 23:03:47</td>\n",
       "      <td>IP Address</td>\n",
       "      <td>73.169.119.154</td>\n",
       "      <td>100</td>\n",
       "      <td>716</td>\n",
       "      <td>True</td>\n",
       "      <td>2019-10-23 23:03:49</td>\n",
       "      <td>R_CjXoCMpXVz9XyUN</td>\n",
       "      <td>NaN</td>\n",
       "      <td>...</td>\n",
       "      <td>1.795</td>\n",
       "      <td>1.81</td>\n",
       "      <td>1</td>\n",
       "      <td>Male</td>\n",
       "      <td>1.893</td>\n",
       "      <td>1.893</td>\n",
       "      <td>1.906</td>\n",
       "      <td>1</td>\n",
       "      <td>Female</td>\n",
       "      <td>5920762</td>\n",
       "    </tr>\n",
       "    <tr>\n",
       "      <td>4</td>\n",
       "      <td>2019-10-23 22:52:18</td>\n",
       "      <td>2019-10-23 23:11:00</td>\n",
       "      <td>IP Address</td>\n",
       "      <td>162.155.15.74</td>\n",
       "      <td>100</td>\n",
       "      <td>1122</td>\n",
       "      <td>True</td>\n",
       "      <td>2019-10-23 23:11:01</td>\n",
       "      <td>R_2S0u4pCwYLatFk4</td>\n",
       "      <td>NaN</td>\n",
       "      <td>...</td>\n",
       "      <td>1.466</td>\n",
       "      <td>1.524</td>\n",
       "      <td>1</td>\n",
       "      <td>Male</td>\n",
       "      <td>1.891</td>\n",
       "      <td>1.891</td>\n",
       "      <td>1.917</td>\n",
       "      <td>1</td>\n",
       "      <td>Female</td>\n",
       "      <td>2503639</td>\n",
       "    </tr>\n",
       "    <tr>\n",
       "      <td>5</td>\n",
       "      <td>2019-10-23 22:53:02</td>\n",
       "      <td>2019-10-23 23:22:30</td>\n",
       "      <td>IP Address</td>\n",
       "      <td>108.30.47.212</td>\n",
       "      <td>100</td>\n",
       "      <td>1767</td>\n",
       "      <td>True</td>\n",
       "      <td>2019-10-23 23:22:31</td>\n",
       "      <td>R_3oTMMuhxAgSkBUK</td>\n",
       "      <td>NaN</td>\n",
       "      <td>...</td>\n",
       "      <td>3.037</td>\n",
       "      <td>3.052</td>\n",
       "      <td>1</td>\n",
       "      <td>Male</td>\n",
       "      <td>3.202</td>\n",
       "      <td>3.202</td>\n",
       "      <td>3.332</td>\n",
       "      <td>1</td>\n",
       "      <td>Female</td>\n",
       "      <td>1565824</td>\n",
       "    </tr>\n",
       "    <tr>\n",
       "      <td>6</td>\n",
       "      <td>2019-10-23 23:09:00</td>\n",
       "      <td>2019-10-23 23:29:01</td>\n",
       "      <td>IP Address</td>\n",
       "      <td>108.30.47.212</td>\n",
       "      <td>100</td>\n",
       "      <td>1200</td>\n",
       "      <td>True</td>\n",
       "      <td>2019-10-23 23:29:03</td>\n",
       "      <td>R_2CrY9KNOWOoMiMv</td>\n",
       "      <td>NaN</td>\n",
       "      <td>...</td>\n",
       "      <td>4.905</td>\n",
       "      <td>5.073</td>\n",
       "      <td>1</td>\n",
       "      <td>Male</td>\n",
       "      <td>4.206</td>\n",
       "      <td>4.206</td>\n",
       "      <td>4.224</td>\n",
       "      <td>1</td>\n",
       "      <td>Female</td>\n",
       "      <td>5798667</td>\n",
       "    </tr>\n",
       "  </tbody>\n",
       "</table>\n",
       "<p>5 rows × 1409 columns</p>\n",
       "</div>"
      ],
      "text/plain": [
       "             StartDate              EndDate      Status        IPAddress  \\\n",
       "2  2019-10-23 18:04:18  2019-10-23 18:15:51  IP Address  169.229.239.172   \n",
       "3  2019-10-23 22:51:51  2019-10-23 23:03:47  IP Address   73.169.119.154   \n",
       "4  2019-10-23 22:52:18  2019-10-23 23:11:00  IP Address    162.155.15.74   \n",
       "5  2019-10-23 22:53:02  2019-10-23 23:22:30  IP Address    108.30.47.212   \n",
       "6  2019-10-23 23:09:00  2019-10-23 23:29:01  IP Address    108.30.47.212   \n",
       "\n",
       "  Progress Duration (in seconds) Finished         RecordedDate  \\\n",
       "2      100                   692     True  2019-10-23 18:15:54   \n",
       "3      100                   716     True  2019-10-23 23:03:49   \n",
       "4      100                  1122     True  2019-10-23 23:11:01   \n",
       "5      100                  1767     True  2019-10-23 23:22:31   \n",
       "6      100                  1200     True  2019-10-23 23:29:03   \n",
       "\n",
       "          ResponseId RecipientLastName  ... 277_timing_Last Click  \\\n",
       "2  R_1dNAdai5M1mCBSf               NaN  ...                 1.561   \n",
       "3  R_CjXoCMpXVz9XyUN               NaN  ...                 1.795   \n",
       "4  R_2S0u4pCwYLatFk4               NaN  ...                 1.466   \n",
       "5  R_3oTMMuhxAgSkBUK               NaN  ...                 3.037   \n",
       "6  R_2CrY9KNOWOoMiMv               NaN  ...                 4.905   \n",
       "\n",
       "  277_timing_Page Submit 277_timing_Click Count 277_Q2 278_timing_First Click  \\\n",
       "2                   1.57                      1   Male                  1.708   \n",
       "3                   1.81                      1   Male                  1.893   \n",
       "4                  1.524                      1   Male                  1.891   \n",
       "5                  3.052                      1   Male                  3.202   \n",
       "6                  5.073                      1   Male                  4.206   \n",
       "\n",
       "  278_timing_Last Click 278_timing_Page Submit 278_timing_Click Count  278_Q2  \\\n",
       "2                 1.708                  1.719                      1  Female   \n",
       "3                 1.893                  1.906                      1  Female   \n",
       "4                 1.891                  1.917                      1  Female   \n",
       "5                 3.202                  3.332                      1  Female   \n",
       "6                 4.206                  4.224                      1  Female   \n",
       "\n",
       "  mTurkCode  \n",
       "2   9175056  \n",
       "3   5920762  \n",
       "4   2503639  \n",
       "5   1565824  \n",
       "6   5798667  \n",
       "\n",
       "[5 rows x 1409 columns]"
      ]
     },
     "execution_count": 35,
     "metadata": {},
     "output_type": "execute_result"
    }
   ],
   "source": [
    "# remove two first rows, not necessary\n",
    "data = data.drop([0, 1])\n",
    "data.head()"
   ]
  },
  {
   "cell_type": "code",
   "execution_count": 36,
   "metadata": {
    "ExecuteTime": {
     "end_time": "2019-10-25T20:41:15.787527Z",
     "start_time": "2019-10-25T20:41:15.781908Z"
    }
   },
   "outputs": [
    {
     "name": "stdout",
     "output_type": "stream",
     "text": [
      "2     Female\n",
      "3     Female\n",
      "4     Female\n",
      "5     Female\n",
      "6     Female\n",
      "7     Female\n",
      "8       Male\n",
      "9     Female\n",
      "10    Female\n",
      "11    Female\n",
      "12    Female\n",
      "13    Female\n",
      "14      Male\n",
      "15    Female\n",
      "16    Female\n",
      "17    Female\n",
      "18    Female\n",
      "19    Female\n",
      "20    Female\n",
      "21    Female\n",
      "22    Female\n",
      "Name: 1_Q2, dtype: object\n"
     ]
    }
   ],
   "source": [
    "# print(data.get(\"StartDate\")[1])\n",
    "print(data.iloc[:, 22])"
   ]
  },
  {
   "cell_type": "markdown",
   "metadata": {},
   "source": [
    "# Name columns"
   ]
  },
  {
   "cell_type": "code",
   "execution_count": 37,
   "metadata": {
    "ExecuteTime": {
     "end_time": "2019-10-25T20:41:16.816829Z",
     "start_time": "2019-10-25T20:41:16.813086Z"
    }
   },
   "outputs": [],
   "source": [
    "# label columns\n",
    "SUBJECTID = 0\n",
    "mTurkCode = 1\n",
    "TRIALNUM = 2\n",
    "IMAGE_NUMBER = 2\n",
    "RAW_ANSWER = 4 "
   ]
  },
  {
   "cell_type": "code",
   "execution_count": 38,
   "metadata": {
    "ExecuteTime": {
     "end_time": "2019-10-25T20:41:17.170696Z",
     "start_time": "2019-10-25T20:41:17.165605Z"
    }
   },
   "outputs": [
    {
     "name": "stdout",
     "output_type": "stream",
     "text": [
      "21\n"
     ]
    }
   ],
   "source": [
    "nSubjects = len(data) # get number of subjects\n",
    "nImages = 278\n",
    "nVariablesPerImage = 5\n",
    "print(nSubjects)"
   ]
  },
  {
   "cell_type": "markdown",
   "metadata": {},
   "source": [
    "# Initiate variables"
   ]
  },
  {
   "cell_type": "code",
   "execution_count": 39,
   "metadata": {
    "ExecuteTime": {
     "end_time": "2019-10-25T20:41:18.068832Z",
     "start_time": "2019-10-25T20:41:17.989337Z"
    }
   },
   "outputs": [],
   "source": [
    "first_image = 22\n",
    "\n",
    "columns = ['SUBJECTID', 'mTurkCode','TRIALNUM', 'IMAGE_NUMBER', 'RAW_ANSWER', 'IS_TRAP'] # number of columns\n",
    "index = range(nImages*nSubjects) # number of rows\n",
    "mat = pd.DataFrame(data, index=index, columns=columns)"
   ]
  },
  {
   "cell_type": "markdown",
   "metadata": {},
   "source": [
    "# Start subject loop"
   ]
  },
  {
   "cell_type": "code",
   "execution_count": 40,
   "metadata": {
    "ExecuteTime": {
     "end_time": "2019-10-25T20:41:35.523550Z",
     "start_time": "2019-10-25T20:41:19.229754Z"
    }
   },
   "outputs": [
    {
     "name": "stdout",
     "output_type": "stream",
     "text": [
      "Processing subject 0\n",
      "Processing subject 1\n",
      "Processing subject 2\n",
      "Processing subject 3\n",
      "Processing subject 4\n",
      "Processing subject 5\n",
      "Processing subject 6\n",
      "Processing subject 7\n",
      "Processing subject 8\n",
      "Processing subject 9\n",
      "Processing subject 10\n",
      "Processing subject 11\n",
      "Processing subject 12\n",
      "Processing subject 13\n",
      "Processing subject 14\n",
      "Processing subject 15\n",
      "Processing subject 16\n",
      "Processing subject 17\n",
      "Processing subject 18\n",
      "Processing subject 19\n",
      "Processing subject 20\n",
      "Done!\n"
     ]
    }
   ],
   "source": [
    "row = 0\n",
    "for subject_loop in range(nSubjects):\n",
    "    print('Processing subject ' + str(subject_loop))\n",
    "    # each subject's data in a row\n",
    "    \n",
    "    id_sub = subject_loop + 1 \n",
    "    \n",
    "    data_subject = data.iloc[subject_loop] # get only the data from that subject\n",
    "    \n",
    "    workerID = data_subject['mTurkCode'] # get mturk code\n",
    "\n",
    "    \n",
    "    for image in range(nImages):\n",
    "        \n",
    "#         if trial_loop == 0:\n",
    "#             row_number = subject_loop*nImages\n",
    "#         else:\n",
    "#             row_number = row_number + 1\n",
    "            \n",
    "        column_index = first_image + (image * nVariablesPerImage) # starts always by column 18\n",
    "        image_number = image + 1 \n",
    "        \n",
    "        # add to matrix\n",
    "        mat.loc[row, 'SUBJECTID'] = id_sub # subject number\n",
    "        mat.loc[row, 'mTurkCode'] = workerID\n",
    "        mat.loc[row, 'IMAGE_NUMBER'] = image_number\n",
    "        mat.loc[row, 'RAW_ANSWER'] = data_subject.iloc[column_index] \n",
    "        \n",
    "        if image_number < 275:\n",
    "            mat.loc[row, 'IS_TRAP'] = 'no'\n",
    "        else:\n",
    "            mat.loc[row, 'IS_TRAP'] = 'yes'\n",
    "            \n",
    "        row = row + 1\n",
    "        \n",
    "        \n",
    "print('Done!')"
   ]
  },
  {
   "cell_type": "code",
   "execution_count": 42,
   "metadata": {
    "ExecuteTime": {
     "end_time": "2019-10-25T20:42:00.236554Z",
     "start_time": "2019-10-25T20:42:00.226205Z"
    }
   },
   "outputs": [
    {
     "name": "stdout",
     "output_type": "stream",
     "text": [
      "      SUBJECTID mTurkCode  TRIALNUM  IMAGE_NUMBER RAW_ANSWER IS_TRAP\n",
      "0           1.0   9175056       NaN           1.0     Female      no\n",
      "1           1.0   9175056       NaN           2.0     Female      no\n",
      "2           1.0   9175056       NaN           3.0     Female      no\n",
      "3           1.0   9175056       NaN           4.0     Female      no\n",
      "4           1.0   9175056       NaN           5.0     Female      no\n",
      "...         ...       ...       ...           ...        ...     ...\n",
      "5833       21.0   1593893       NaN         274.0       Male      no\n",
      "5834       21.0   1593893       NaN         275.0       Male     yes\n",
      "5835       21.0   1593893       NaN         276.0     Female     yes\n",
      "5836       21.0   1593893       NaN         277.0       Male     yes\n",
      "5837       21.0   1593893       NaN         278.0     Female     yes\n",
      "\n",
      "[5838 rows x 6 columns]\n"
     ]
    }
   ],
   "source": [
    "print(mat)"
   ]
  },
  {
   "cell_type": "markdown",
   "metadata": {},
   "source": [
    "# Exclude subjects that fall in trap "
   ]
  },
  {
   "cell_type": "code",
   "execution_count": 44,
   "metadata": {
    "ExecuteTime": {
     "end_time": "2019-10-25T20:42:40.316936Z",
     "start_time": "2019-10-25T20:42:40.311642Z"
    }
   },
   "outputs": [],
   "source": [
    "traps =mat[mat['IS_TRAP']=='yes']"
   ]
  },
  {
   "cell_type": "markdown",
   "metadata": {
    "ExecuteTime": {
     "end_time": "2019-10-25T20:36:58.037735Z",
     "start_time": "2019-10-25T20:36:58.032245Z"
    }
   },
   "source": [
    "In this case, subject 9"
   ]
  },
  {
   "cell_type": "code",
   "execution_count": 50,
   "metadata": {
    "ExecuteTime": {
     "end_time": "2019-10-25T20:43:35.206036Z",
     "start_time": "2019-10-25T20:43:35.199365Z"
    }
   },
   "outputs": [],
   "source": [
    "mat.drop(mat[mat['SUBJECTID'] == 9].index, inplace=True)"
   ]
  },
  {
   "cell_type": "markdown",
   "metadata": {},
   "source": []
  },
  {
   "cell_type": "markdown",
   "metadata": {},
   "source": [
    "# Save data file"
   ]
  },
  {
   "cell_type": "code",
   "execution_count": 51,
   "metadata": {
    "ExecuteTime": {
     "end_time": "2019-10-25T20:43:41.580934Z",
     "start_time": "2019-10-25T20:43:41.552743Z"
    }
   },
   "outputs": [],
   "source": [
    "mat.to_csv('gender_all_preprocessed.csv')"
   ]
  },
  {
   "cell_type": "code",
   "execution_count": null,
   "metadata": {},
   "outputs": [],
   "source": []
  }
 ],
 "metadata": {
  "kernelspec": {
   "display_name": "Python 3",
   "language": "python",
   "name": "python3"
  },
  "language_info": {
   "codemirror_mode": {
    "name": "ipython",
    "version": 3
   },
   "file_extension": ".py",
   "mimetype": "text/x-python",
   "name": "python",
   "nbconvert_exporter": "python",
   "pygments_lexer": "ipython3",
   "version": "3.7.6"
  },
  "toc": {
   "base_numbering": 1,
   "nav_menu": {},
   "number_sections": true,
   "sideBar": true,
   "skip_h1_title": false,
   "title_cell": "Table of Contents",
   "title_sidebar": "Contents",
   "toc_cell": false,
   "toc_position": {},
   "toc_section_display": true,
   "toc_window_display": false
  },
  "varInspector": {
   "cols": {
    "lenName": 16,
    "lenType": 16,
    "lenVar": 40
   },
   "kernels_config": {
    "python": {
     "delete_cmd_postfix": "",
     "delete_cmd_prefix": "del ",
     "library": "var_list.py",
     "varRefreshCmd": "print(var_dic_list())"
    },
    "r": {
     "delete_cmd_postfix": ") ",
     "delete_cmd_prefix": "rm(",
     "library": "var_list.r",
     "varRefreshCmd": "cat(var_dic_list()) "
    }
   },
   "types_to_exclude": [
    "module",
    "function",
    "builtin_function_or_method",
    "instance",
    "_Feature"
   ],
   "window_display": false
  }
 },
 "nbformat": 4,
 "nbformat_minor": 2
}
